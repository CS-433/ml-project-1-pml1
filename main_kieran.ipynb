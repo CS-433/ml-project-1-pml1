{
 "cells": [
  {
   "cell_type": "markdown",
   "metadata": {},
   "source": [
    "### Load the data"
   ]
  },
  {
   "cell_type": "code",
   "execution_count": null,
   "metadata": {},
   "outputs": [],
   "source": [
    "# Useful starting lines\n",
    "%matplotlib inline\n",
    "import numpy as np\n",
    "import datetime\n",
    "import matplotlib.pyplot as plt\n",
    "\n",
    "from helpers import *\n",
    "from implementations import *\n",
    "from Data_Cleaning import *\n",
    "\n",
    "%load_ext autoreload\n",
    "%autoreload 2"
   ]
  },
  {
   "cell_type": "code",
   "execution_count": null,
   "metadata": {},
   "outputs": [],
   "source": [
    "y, tx, ids = load_csv_data(\"train.csv\", sub_sample=False)\n",
    "for i in range(tx.shape[1]):\n",
    "    print(tx[:, i][tx[:, 22] == 0][(tx[tx[:, 22] == 0][:, i] == -999)].shape)\n",
    "    "
   ]
  },
  {
   "cell_type": "code",
   "execution_count": null,
   "metadata": {},
   "outputs": [],
   "source": [
    "def correctOutliers(xi, lower, upper, newVals):\n",
    "    a = xi > upper\n",
    "    b = xi < lower\n",
    "    aorb = np.logical_or(a,b)\n",
    "    xxi = np.where(aorb, newVals, xi)\n",
    "    return xxi\n",
    "\n",
    "def handleOutliers(tx):\n",
    "    q3, q2, q1 = np.quantile(tx, [0.75, 0.5, 0.25], axis=0)\n",
    "    iqr = q3 - q1\n",
    "    upper = q3 + 1.5*iqr\n",
    "    lower = q1 - 1.5*iqr\n",
    "    tx2 = np.apply_along_axis(correctOutliers, axis=1, arr=tx, lower=lower, upper=upper, newVals=q2)\n",
    "    return tx2"
   ]
  },
  {
   "cell_type": "code",
   "execution_count": null,
   "metadata": {},
   "outputs": [],
   "source": [
    "y, tx, ids = load_csv_data(\"train.csv\", sub_sample=False)\n",
    "for i in range(tx.shape[1]):\n",
    "    tx[:, i][tx[:, i] == -999] = np.mean(tx[:, i][tx[:, i] != -999])\n",
    "data_model = split_according_num_split_jet(y,tx,ids)"
   ]
  },
  {
   "cell_type": "code",
   "execution_count": null,
   "metadata": {},
   "outputs": [],
   "source": [
    "tx = data_model[\"0\"][\"data\"]\n",
    "ind = data_model[\"0\"][\"ind\"]\n",
    "y = data_model[\"0\"][\"label\"]\n",
    "\n",
    "tx_mean = np.mean(tx, axis=0)\n",
    "tx_std = np.std(tx, axis=0)\n",
    "tx = (tx - tx_mean) / tx_std"
   ]
  },
  {
   "cell_type": "code",
   "execution_count": null,
   "metadata": {},
   "outputs": [],
   "source": [
    "np.where(0==tx_mean)"
   ]
  },
  {
   "cell_type": "code",
   "execution_count": null,
   "metadata": {},
   "outputs": [],
   "source": [
    "y, tx, ids = load_csv_data(\"train.csv\", sub_sample=False)\n",
    "\n",
    "# change outlier values to the mean without them\n",
    "tx_mean_meaningful = np.zeros([tx.shape[1],])\n",
    "for i in range(tx.shape[1]):\n",
    "    tx[:, i][tx[:, i] == -999] = np.mean(tx[:, i][tx[:, i] != -999])\n",
    "    mean.append(np.mean(tx[:, i][tx[:, i] != -999]))\n",
    "#print(tx[:,0].mean(),min(tx[:,0]))\n",
    "# transform the categorical features into one-hot features\n",
    "#tx_ = np.delete(tx, 22, axis = 1)\n",
    "#tx = np.hstack((tx,tx_**2,tx_**3,np.sin(tx_),np.cos(tx_),np.sin(2*tx_),np.cos(2*tx_),np.sin(tx_)**2,np.cos(tx_)**2,np.sin(0.5*tx_),np.cos(0.5*tx_),\n",
    "#    (tx[:, 22] == 0).astype(np.float64)[:, np.newaxis],\n",
    "#    (tx[:, 22] == 1).astype(np.float64)[:, np.newaxis],\n",
    "#    (tx[:, 22] == 2).astype(np.float64)[:, np.newaxis],\n",
    "#    (tx[:, 22] == 3).astype(np.float64)[:, np.newaxis]))\n",
    "i = -1\n",
    "ind = np.where(tx[:, 22] > i)\n",
    "tx_ = np.delete(tx[tx[:, 22] > i], 22, axis = 1)\n",
    "#tx = np.hstack([tx[tx[:, 22] > 1],np.sin(tx_),np.cos(tx_)])#,np.sin(2*tx_),np.cos(2*tx_)])\n",
    "tx = np.delete(tx[tx[:, 22] > i], 22, axis = 1)\n",
    "#tx = build_derived_quantities(tx)\n",
    "tx = build_poly_cross_terms(tx, 3)\n",
    "# standardization\n",
    "tx_mean = np.mean(tx, axis=0)\n",
    "tx_std = np.std(tx, axis=0) \n",
    "tx[:, :-4] = (tx[:, :-4] - tx_mean[:-4]) / tx_std[:-4]\n",
    "\n",
    "# sin, cos term # improvement ~ 1%\n",
    "tx = np.hstack([tx, np.cos(tx),np.sin(2*tx),np.cos(2*tx)])\n",
    "\n",
    "# drop all-zero columns, which may cause tx.T @ tx a singular matrix\n",
    "zero_idx = np.argwhere(np.all(tx == 0, axis=0))\n",
    "tx = np.delete(tx, zero_idx, axis=1)\n",
    "\n",
    "# add the bias term to features\n",
    "bias_term = np.ones([tx.shape[0], 1])\n",
    "tx = np.hstack([tx, bias_term])\n",
    "\n",
    "# drop duplicate columns\n",
    "tx, unique_idx = np.unique(tx, axis=1, return_index=True)"
   ]
  },
  {
   "cell_type": "code",
   "execution_count": null,
   "metadata": {},
   "outputs": [],
   "source": [
    "tx.shape, y.shape"
   ]
  },
  {
   "cell_type": "code",
   "execution_count": null,
   "metadata": {},
   "outputs": [],
   "source": [
    "# y, tx, ids = load_csv_data(\"train.csv\", sub_sample=False)\n",
    "\n",
    "# # change outlier values to the mean without them\n",
    "# mean = []\n",
    "# for i in range(tx.shape[1]):\n",
    "#     tx[:, i][tx[:, i] == -999] = np.mean(tx[:, i][tx[:, i] != -999])\n",
    "#     mean.append(np.mean(tx[:, i][tx[:, i] != -999]))\n",
    "# # transform the categorical features into one-hot features\n",
    "# #tx_ = np.delete(tx, 22, axis = 1)\n",
    "# #tx = np.hstack((tx,tx_**2,tx_**3,np.sin(tx_),np.cos(tx_),np.sin(2*tx_),np.cos(2*tx_),np.sin(tx_)**2,np.cos(tx_)**2,np.sin(0.5*tx_),np.cos(0.5*tx_),\n",
    "# #    (tx[:, 22] == 0).astype(np.float64)[:, np.newaxis],\n",
    "# #    (tx[:, 22] == 1).astype(np.float64)[:, np.newaxis],\n",
    "# #    (tx[:, 22] == 2).astype(np.float64)[:, np.newaxis],\n",
    "# #    (tx[:, 22] == 3).astype(np.float64)[:, np.newaxis]))\n",
    "# ind = np.where(tx[:, 22] > 1)\n",
    "# tx_ = np.delete(tx[tx[:, 22] > 1], 22, axis = 1)\n",
    "# tx__ = np.hstack([tx[tx[:, 22] > 1],tx_[:,0].reshape((tx_.shape[0],1))*tx_,tx_[:,1].reshape((tx_.shape[0],1))*tx_,tx_[:,2].reshape((tx_.shape[0],1))*tx_,tx_[:,3].reshape((tx_.shape[0],1))*tx_,tx_[:,4].reshape((tx_.shape[0],1))*tx_,tx_[:,5].reshape((tx_.shape[0],1))*tx_,tx_[:,6].reshape((tx_.shape[0],1))*tx_,\n",
    "#                 tx_[:,7].reshape((tx_.shape[0],1))*tx_,np.sin(tx_),tx_[:,8].reshape((tx_.shape[0],1))*tx_,\n",
    "#                 tx_[:,9].reshape((tx_.shape[0],1))*tx_,tx_[:,10].reshape((tx_.shape[0],1))*tx_,\n",
    "#                 tx_[:,11].reshape((tx_.shape[0],1))*tx_,tx_[:,12].reshape((tx_.shape[0],1))*tx_,tx_[:,13].reshape((tx_.shape[0],1))*tx_,\n",
    "#                 tx_[:,14].reshape((tx_.shape[0],1))*tx_,tx_[:,15].reshape((tx_.shape[0],1))*tx_,tx_[:,16].reshape((tx_.shape[0],1))*tx_,\n",
    "#                 tx_[:,17].reshape((tx_.shape[0],1))*tx_,tx_[:,18].reshape((tx_.shape[0],1))*tx_,tx_[:,19].reshape((tx_.shape[0],1))*tx_,\n",
    "#                 np.cos(tx_),np.sin(2*tx_),np.cos(2*tx_)])\n",
    "# tx = np.hstack([tx_])\n",
    "# tx = np.delete(tx, 22, axis = 1)\n",
    "\n",
    "# # standardization\n",
    "# tx_mean = np.mean(tx, axis=0)\n",
    "# tx_std = np.std(tx, axis=0)\n",
    "# tx = (tx - tx_mean) / tx_std"
   ]
  },
  {
   "cell_type": "code",
   "execution_count": null,
   "metadata": {},
   "outputs": [],
   "source": [
    "# #y.shape, tx.shape\n",
    "# np.mean(tx, axis = 0).shape\n"
   ]
  },
  {
   "cell_type": "markdown",
   "metadata": {},
   "source": [
    "### Gradient Descent"
   ]
  },
  {
   "cell_type": "code",
   "execution_count": null,
   "metadata": {},
   "outputs": [],
   "source": [
    "# Define the parameters of the algorithm.\n",
    "max_iters = 100\n",
    "gamma = 0.005\n",
    "\n",
    "# Initialization\n",
    "initial_w = gd_ws#np.zeros(tx.shape[1])\n",
    "\n",
    "# Start gradient descent.\n",
    "start_time = datetime.datetime.now()\n",
    "gd_ws, gd_losses= least_squares_GD(y, tx, initial_w, max_iters, gamma)\n",
    "end_time = datetime.datetime.now()\n",
    "\n",
    "# Print result\n",
    "exection_time = (end_time - start_time).total_seconds()\n",
    "print(\"Gradient Descent: execution time = {t:.3f} seconds\".format(t=exection_time))\n",
    "print(\"Gradient Descent: loss = {t}\".format(t=gd_losses))\n",
    "\n",
    "y_pred = tx @ gd_ws\n",
    "y_pred[y_pred > 0] = 1\n",
    "y_pred[y_pred < 0] = -1\n",
    "print('Gradient descent accuracy:', np.mean(y_pred == y))"
   ]
  },
  {
   "cell_type": "code",
   "execution_count": null,
   "metadata": {},
   "outputs": [],
   "source": [
    "# cross validation for GD. Maybe No Need...\n",
    "\n",
    "from helpers import *\n",
    "\n",
    "k_fold = 5\n",
    "seed = None\n",
    "initial_w = np.zeros(tx.shape[1])\n",
    "max_iters = 10 \n",
    "gammas = np.logspace(-4, -2, 20)\n",
    "\n",
    "# select gamma\n",
    "gamma_ = hyperparameter_tuning_GD(tx, y, k_fold, seed, initial_w, max_iters, gammas)\n",
    "\n",
    "# Start gd\n",
    "gd_ws, gd_losses = least_squares_GD(y, tx, initial_w, max_iters, gamma_)\n",
    "\n",
    "# Print result\n",
    "print(\"Hyperparameter Selection: Gamma = {t}\".format(t=gamma_))\n",
    "print(\"Gradient Descent: loss = {t}\".format(t=gd_losses))\n",
    "\n",
    "y_pred = tx @ gd_ws\n",
    "y_pred[y_pred > 0] = 1\n",
    "y_pred[y_pred < 0] = -1\n",
    "print('Gradient descent accuracy:', np.mean(y_pred == y))"
   ]
  },
  {
   "cell_type": "markdown",
   "metadata": {},
   "source": [
    "### Stochastic Gradient Descent"
   ]
  },
  {
   "cell_type": "code",
   "execution_count": null,
   "metadata": {},
   "outputs": [],
   "source": [
    "# Define the parameters of the algorithm.\n",
    "max_iters = 10\n",
    "gamma = 0.000000015\n",
    "sgd_ws = np.zeros(tx.shape[1])\n",
    "\n",
    "# Initialization\n",
    "initial_w = sgd_ws\n",
    "\n",
    "# Start gradient descent.\n",
    "start_time = datetime.datetime.now()\n",
    "sgd_ws, sgd_losses= least_squares_SGD(y, tx, initial_w, max_iters, gamma)\n",
    "end_time = datetime.datetime.now()\n",
    "\n",
    "# Print result\n",
    "exection_time = (end_time - start_time).total_seconds()\n",
    "print(\"Stochastic Gradient Descent: execution time = {t:.3f} seconds\".format(t=exection_time))\n",
    "print(\"Stochastic Gradient Descent: loss = {t}\".format(t=sgd_losses))\n",
    "\n",
    "y_pred = tx @ sgd_ws\n",
    "y_pred[y_pred > 0] = 1\n",
    "y_pred[y_pred < 0] = -1\n",
    "print('Stochastic gradient descent accuracy:', np.mean(y_pred == y))"
   ]
  },
  {
   "cell_type": "markdown",
   "metadata": {},
   "source": [
    "### Least Squares"
   ]
  },
  {
   "cell_type": "code",
   "execution_count": null,
   "metadata": {},
   "outputs": [],
   "source": [
    "# Start least squares.\n",
    "start_time = datetime.datetime.now()\n",
    "ls_ws, ls_losses= least_squares(y, tx)\n",
    "end_time = datetime.datetime.now()\n",
    "\n",
    "# Print result\n",
    "exection_time = (end_time - start_time).total_seconds()\n",
    "print(\"Least Squares: execution time = {t:.3f} seconds\".format(t=exection_time))\n",
    "print(\"Least Squares: loss = {t}\".format(t=ls_losses))\n",
    "\n",
    "y_pred = tx @ ls_ws\n",
    "y_pred[y_pred > 0] = 1\n",
    "y_pred[y_pred < 0] = -1\n",
    "print('Least squares accuracy:', np.mean(y_pred == y[ind]))"
   ]
  },
  {
   "cell_type": "markdown",
   "metadata": {},
   "source": [
    "### Ridge Regression"
   ]
  },
  {
   "cell_type": "code",
   "execution_count": null,
   "metadata": {},
   "outputs": [],
   "source": [
    "# initialization\n",
    "degree = 1\n",
    "ratio = 0.8\n",
    "seed = None\n",
    "lambdas = np.logspace(-20, -15, 150)\n",
    "\n",
    "# select lambda\n",
    "lambda_ = hyperparameter_tuning_ridge_regression(tx, y[ind], degree, ratio, seed, lambdas)\n",
    "\n",
    "# Start ridge regression\n",
    "start_time = datetime.datetime.now()\n",
    "r_ws, r_losses = ridge_regression(y[ind], tx, lambda_)\n",
    "end_time = datetime.datetime.now()\n",
    "\n",
    "# Print result\n",
    "exection_time = (end_time - start_time).total_seconds()\n",
    "print(\"Ridge Regression: execution time = {t:.3f} seconds\".format(t=exection_time))\n",
    "print(\"Ridge Regression: loss = {t}\".format(t=r_losses))\n",
    "\n",
    "y_pred = tx @ r_ws\n",
    "y_pred[y_pred > 0] = 1\n",
    "y_pred[y_pred < 0] = -1\n",
    "print('Ridge Regression accuracy:', np.mean(y_pred == y))\n"
   ]
  },
  {
   "cell_type": "code",
   "execution_count": null,
   "metadata": {},
   "outputs": [],
   "source": [
    "# # initialization\n",
    "# degree = 1\n",
    "# ratio = 0.8\n",
    "# seed = None\n",
    "# lambdas = np.logspace(-20, -15, 150)\n",
    "\n",
    "# # select lambda\n",
    "# lambda_ = hyperparameter_tuning_ridge_regression(tx, y[ind], degree, ratio, seed, lambdas)\n",
    "\n",
    "# # Start ridge regression\n",
    "# start_time = datetime.datetime.now()\n",
    "# r_ws, r_losses = ridge_regression(y[ind], tx, lambda_)\n",
    "# end_time = datetime.datetime.now()\n",
    "\n",
    "# # Print result\n",
    "# exection_time = (end_time - start_time).total_seconds()\n",
    "# print(\"Ridge Regression: execution time = {t:.3f} seconds\".format(t=exection_time))\n",
    "# print(\"Hyperparameter Selection: Lambda = {t}\".format(t=lambda_))\n",
    "# print(\"Ridge Regression: loss = {t}\".format(t=r_losses))"
   ]
  },
  {
   "cell_type": "code",
   "execution_count": null,
   "metadata": {},
   "outputs": [],
   "source": [
    "# def build_k_indices(y, k_fold, seed):\n",
    "#     \"\"\"build k indices for k-fold.\n",
    "#     return dimension: k-fold * interval\n",
    "#     \"\"\"\n",
    "#     num_row = y.shape[0]\n",
    "#     interval = int(num_row / k_fold)\n",
    "#     np.random.seed(seed)\n",
    "#     indices = np.random.permutation(num_row)\n",
    "#     k_indices = [indices[k * interval: (k + 1) * interval] for k in range(k_fold)] \n",
    "#     return np.array(k_indices)"
   ]
  },
  {
   "cell_type": "code",
   "execution_count": null,
   "metadata": {},
   "outputs": [],
   "source": [
    "# # Cross Validation\n",
    "\n",
    "# Initialization\n",
    "seed = None\n",
    "k_fold = 5\n",
    "k_indices = build_k_indices(y[ind], k_fold, seed)\n",
    "\n",
    "train_acc = []\n",
    "val_acc = []\n",
    "for k in range(k_fold):\n",
    "    val_y = y[ind][k_indices[k, :]]\n",
    "    val_x = tx[k_indices[k, :]]\n",
    "    train_idx = np.vstack([k_indices[:k, :], k_indices[k+1:, :]]).flatten()\n",
    "    train_y = y[train_idx]\n",
    "    train_x = tx[train_idx]\n",
    "\n",
    "    print('------', k, 'fold ------')\n",
    "    w, loss = ridge_regression(train_y, train_x, lambda_)\n",
    "    pred = train_x @ w\n",
    "    pred[pred > 0] = 1\n",
    "    pred[pred < 0] = -1\n",
    "    train_acc.append(np.mean(pred == train_y))\n",
    "    print('Train acc:', np.mean(pred == train_y))\n",
    "    pred = val_x @ w\n",
    "    pred[pred > 0] = 1\n",
    "    pred[pred < 0] = -1\n",
    "    val_acc.append(np.mean(pred == val_y))\n",
    "    print('Validation acc:', np.mean(pred == val_y))\n",
    "\n",
    "print('------ summary ------')\n",
    "print('Average Train acc:', sum(train_acc)/len(train_acc))\n",
    "print('Average Validation acc:', sum(val_acc)/len(val_acc))"
   ]
  },
  {
   "cell_type": "markdown",
   "metadata": {},
   "source": [
    "## Logistic Regression"
   ]
  },
  {
   "cell_type": "code",
   "execution_count": null,
   "metadata": {},
   "outputs": [],
   "source": [
    "# Define the parameters of the algorithm.\n",
    "max_iters = 2\n",
    "gamma = 0.00005\n",
    "\n",
    "\n",
    "# Initialization\n",
    "initial_w = gd_ws#np.zeros((tx.shape[1]))\n",
    "\n",
    "# Start gradient descent.\n",
    "start_time = datetime.datetime.now()\n",
    "gd_ws, gd_losses= logistic_regression(y[ind], tx, initial_w, max_iters, gamma)\n",
    "end_time = datetime.datetime.now()\n",
    "\n",
    "# Print result\n",
    "exection_time = (end_time - start_time).total_seconds()\n",
    "print(\"Gradient Descent: execution time = {t:.3f} seconds\".format(t=exection_time))\n",
    "print(\"Gradient Descent: loss = {t}\".format(t=gd_losses))"
   ]
  },
  {
   "cell_type": "code",
   "execution_count": null,
   "metadata": {},
   "outputs": [],
   "source": [
    "def predict_labels_logit(w, tx):\n",
    "    y_pred = sigmoid(np.dot(tx, w))\n",
    "    y_pred[np.where(y_pred <= 0.5)] = -1\n",
    "    y_pred[np.where(y_pred > 0.5)] = 1\n",
    "    return y_pred\n",
    "# predictions\n",
    "y_pred = predict_labels_logit(gd_ws, tx)\n",
    "\n",
    "# accuracy\n",
    "(y_pred == y[ind]).mean()"
   ]
  },
  {
   "cell_type": "markdown",
   "metadata": {},
   "source": [
    "## Regularized logistic regression"
   ]
  },
  {
   "cell_type": "code",
   "execution_count": null,
   "metadata": {},
   "outputs": [],
   "source": [
    "# Define the parameters of the algorithm.\n",
    "max_iters = 4\n",
    "gamma = 0.0001\n",
    "lambda_ = 0.000001\n",
    "\n",
    "# Initialization\n",
    "initial_w = np.random.normal(scale = 1/np.sqrt(tx.shape[0]), size=(tx.shape[1]))\n",
    "\n",
    "# Start gradient descent.\n",
    "start_time = datetime.datetime.now()\n",
    "gd_ws, gd_losses= reg_logistic_regression(y[ind], tx,lambda_, initial_w, max_iters, gamma)\n",
    "end_time = datetime.datetime.now()\n",
    "\n",
    "# Print result\n",
    "exection_time = (end_time - start_time).total_seconds()\n",
    "print(\"Gradient Descent: execution time = {t:.3f} seconds\".format(t=exection_time))\n",
    "print(\"Gradient Descent: loss = {t}\".format(t=gd_losses))"
   ]
  },
  {
   "cell_type": "code",
   "execution_count": null,
   "metadata": {},
   "outputs": [],
   "source": [
    "# predictions\n",
    "y_pred = predict_labels_logit(gd_ws, tx)\n",
    "\n",
    "# accuracy\n",
    "(y_pred == y[ind]).mean()"
   ]
  },
  {
   "cell_type": "code",
   "execution_count": null,
   "metadata": {},
   "outputs": [],
   "source": [
    "#reg_logit_loss(y,tx,lambda_,gd_ws)\n",
    "#(sigmoid(tx@gd_ws)<0).sum()\n",
    "#tx@gd_ws"
   ]
  },
  {
   "cell_type": "code",
   "execution_count": null,
   "metadata": {
    "scrolled": true
   },
   "outputs": [],
   "source": [
    "\n",
    "xx = build_poly(tx[:, 1:], 2)[:, 1:]\n",
    "print(xx)\n",
    "w_init = np.zeros(xx.shape[1])\n",
    "train_first_feature(tx[:, 0], xx, w_init, 0.0001, 20, 0)"
   ]
  },
  {
   "cell_type": "markdown",
   "metadata": {},
   "source": [
    "### Prediction"
   ]
  },
  {
   "cell_type": "markdown",
   "metadata": {},
   "source": [
    "#### To start, you shall upload text.csv to the branch"
   ]
  },
  {
   "cell_type": "code",
   "execution_count": null,
   "metadata": {},
   "outputs": [],
   "source": [
    "_, tx_test, ids_test = load_csv_data(\"test.csv\", sub_sample=False)\n",
    "\n",
    "# force meaningless data into the means\n",
    "for i in range(tx_test.shape[1]):\n",
    "    tx_test[:, i][tx_test[:, i] == -999] = tx_mean_meaningful[i]\n",
    "\n",
    "# transform the categorical feature (PRI_jet_num) into onthot features\n",
    "tx_test = np.hstack((tx_test, \n",
    "    (tx_test[:, 22] == 0).astype(np.float64)[:, np.newaxis],\n",
    "    (tx_test[:, 22] == 1).astype(np.float64)[:, np.newaxis],\n",
    "    (tx_test[:, 22] == 2).astype(np.float64)[:, np.newaxis],\n",
    "    (tx_test[:, 22] == 3).astype(np.float64)[:, np.newaxis]))\n",
    "tx_test = np.delete(tx_test, 22, axis = 1)\n",
    "\n",
    "# standardization\n",
    "tx_test_mean = np.mean(tx_test, axis=0)\n",
    "tx_test_std = np.std(tx_test, axis=0)\n",
    "tx_test[:, :-4] = (tx_test[:, :-4] - tx_test_mean[:-4]) / tx_test_std[:-4]\n",
    "\n",
    "# sin, cos term # improvement ~\n",
    "tx_test = np.hstack([tx_test, np.cos(tx_test),np.sin(2*tx_test),np.cos(2*tx_test)])\n",
    "\n",
    "# drop all-zero columns, which may cause tX.T @ tX a singular matrix\n",
    "zero_idx = np.argwhere(np.all(tx_test == 0, axis=0))\n",
    "tx_test = np.delete(tx_test, zero_idx, axis=1)\n",
    "\n",
    "# add the bias term to features\n",
    "bias_term = np.ones([tx_test.shape[0], 1])\n",
    "tx_test = np.hstack([tx_test, bias_term])\n",
    "\n",
    "# drop duplicate columns\n",
    "tx_test = tx_test[:, unique_idx]"
   ]
  },
  {
   "cell_type": "code",
   "execution_count": null,
   "metadata": {},
   "outputs": [],
   "source": [
    "import itertools\n",
    "\n",
    "for ind in itertools.combinations_with_replacement(np.nditer(tx,op_axes = 0),2):\n",
    "    print(ind)"
   ]
  }
 ],
 "metadata": {
  "kernelspec": {
   "display_name": "Python 3 (ipykernel)",
   "language": "python",
   "name": "python3"
  },
  "language_info": {
   "codemirror_mode": {
    "name": "ipython",
    "version": 3
   },
   "file_extension": ".py",
   "mimetype": "text/x-python",
   "name": "python",
   "nbconvert_exporter": "python",
   "pygments_lexer": "ipython3",
   "version": "3.9.7"
  },
  "vscode": {
   "interpreter": {
    "hash": "a8877ca64660a6d07633c323136e70418fcd1020e7ad0cd0d4c67d6a541235ee"
   }
  }
 },
 "nbformat": 4,
 "nbformat_minor": 2
}
