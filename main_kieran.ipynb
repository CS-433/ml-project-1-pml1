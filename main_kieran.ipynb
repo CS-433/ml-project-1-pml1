{
 "cells": [
  {
   "cell_type": "markdown",
   "metadata": {},
   "source": [
    "### Load the data"
   ]
  },
  {
   "cell_type": "code",

   "execution_count": 18,

   "metadata": {},
   "outputs": [
    {
     "name": "stdout",
     "output_type": "stream",
     "text": [
      "The autoreload extension is already loaded. To reload it, use:\n",
      "  %reload_ext autoreload\n"
     ]
    }
   ],
   "source": [
    "# Useful starting lines\n",
    "%matplotlib inline\n",
    "import numpy as np\n",
    "import datetime\n",
    "import matplotlib.pyplot as plt\n",
    "\n",
    "from helpers import *\n",
    "from implementations import *\n",

    "from Data_Cleaning import *\n",

    "\n",
    "%load_ext autoreload\n",
    "%autoreload 2"
   ]
  },
  {
   "cell_type": "code",

   "execution_count": 144,
   "metadata": {},
   "outputs": [
    {
     "name": "stdout",
     "output_type": "stream",
     "text": [
      "(26123,)\n",
      "(0,)\n",
      "(0,)\n",
      "(0,)\n",
      "(99913,)\n",
      "(99913,)\n",
      "(99913,)\n",
      "(0,)\n",
      "(0,)\n",
      "(0,)\n",
      "(0,)\n",
      "(0,)\n",
      "(99913,)\n",
      "(0,)\n",
      "(0,)\n",
      "(0,)\n",
      "(0,)\n",
      "(0,)\n",
      "(0,)\n",
      "(0,)\n",
      "(0,)\n",
      "(0,)\n",
      "(0,)\n",
      "(99913,)\n",
      "(99913,)\n",
      "(99913,)\n",
      "(99913,)\n",
      "(99913,)\n",
      "(99913,)\n",
      "(0,)\n"
     ]
    }
   ],
   "source": [
    "y, tx, ids = load_csv_data(\"train.csv\", sub_sample=False)\n",
    "for i in range(tx.shape[1]):\n",
    "    print(tx[:, i][tx[:, 22] == 0][(tx[tx[:, 22] == 0][:, i] == -999)].shape)\n",
    "    "
   ]
  },
  {
   "cell_type": "code",
   "execution_count": 108,
   "metadata": {},
   "outputs": [],
   "source": [
    "y, tx, ids = load_csv_data(\"train.csv\", sub_sample=False)\n",
    "for i in range(tx.shape[1]):\n",
    "    tx[:, i][tx[:, i] == -999] = np.mean(tx[:, i][tx[:, i] != -999])\n",
    "data_model = split_according_num_split_jet(y,tx,ids)"
   ]
  },
  {
   "cell_type": "code",
   "execution_count": 135,
   "metadata": {},
   "outputs": [
    {
     "name": "stderr",
     "output_type": "stream",
     "text": [
      "/var/folders/c4/wb13541d4n104gj2c8s0pdf40000gn/T/ipykernel_34718/3652225224.py:7: RuntimeWarning: invalid value encountered in true_divide\n",
      "  tx = (tx - tx_mean) / tx_std\n"
     ]
    }
   ],
   "source": [
    "tx = data_model[\"0\"][\"data\"]\n",
    "ind = data_model[\"0\"][\"ind\"]\n",
    "y = data_model[\"0\"][\"label\"]\n",
    "\n",
    "tx_mean = np.mean(tx, axis=0)\n",
    "tx_std = np.std(tx, axis=0)\n",
    "tx = (tx - tx_mean) / tx_std"
   ]
  },
  {
   "cell_type": "code",
   "execution_count": 138,
   "metadata": {},
   "outputs": [
    {
     "data": {
      "text/plain": [
       "(array([ 983,  999, 1014, 1028, 1041, 1053, 1064, 1074, 1083, 1091, 1098,\n",
       "        1104, 1109, 1113, 1116, 1118, 1119, 1135, 1150, 1164, 1177, 1189,\n",
       "        1200, 1210, 1219, 1227, 1234, 1240, 1245, 1249, 1252, 1254, 1255,\n",
       "        1270, 1284, 1297, 1309, 1320, 1330, 1339, 1347, 1354, 1360, 1365,\n",
       "        1369, 1372, 1374, 1375, 1389, 1402, 1414, 1425, 1435, 1444, 1452,\n",
       "        1459, 1465, 1470, 1474, 1477, 1479, 1480, 1493, 1505, 1516, 1526,\n",
       "        1535, 1543, 1550, 1556, 1561, 1565, 1568, 1570, 1571, 1583, 1594,\n",
       "        1604, 1613, 1621, 1628, 1634, 1639, 1643, 1646, 1648, 1649, 1660,\n",
       "        1670, 1679, 1687, 1694, 1700, 1705, 1709, 1712, 1714, 1715, 1725,\n",
       "        1734, 1742, 1749, 1755, 1760, 1764, 1767, 1769, 1770, 1779, 1787,\n",
       "        1794, 1800, 1805, 1809, 1812, 1814, 1815, 1823, 1830, 1836, 1841,\n",
       "        1845, 1848, 1850, 1851, 1858, 1864, 1869, 1873, 1876, 1878, 1879,\n",
       "        1885, 1890, 1894, 1897, 1899, 1900, 1905, 1909, 1912, 1914, 1915,\n",
       "        1919, 1922, 1924, 1925, 1928, 1930, 1931, 1933, 1934, 1935]),)"
      ]
     },
     "execution_count": 138,
     "metadata": {},
     "output_type": "execute_result"
    }
   ],
   "source": [
    "np.where(0==tx_mean)"
   ]
  },
  {
   "cell_type": "code",

   "execution_count": 99,

   "metadata": {},
   "outputs": [],
   "source": [
    "y, tx, ids = load_csv_data(\"train.csv\", sub_sample=False)\n",
    "\n",
    "# change outlier values to the mean without them\n",
    "tx_mean_meaningful = np.zeros([tx.shape[1],])\n",
    "for i in range(tx.shape[1]):\n",

    "    tx[:, i][tx[:, i] == -999] = np.mean(tx[:, i][tx[:, i] != -999])\n",
    "    mean.append(np.mean(tx[:, i][tx[:, i] != -999]))\n",
    "#print(tx[:,0].mean(),min(tx[:,0]))\n",
    "# transform the categorical features into one-hot features\n",
    "#tx_ = np.delete(tx, 22, axis = 1)\n",
    "#tx = np.hstack((tx,tx_**2,tx_**3,np.sin(tx_),np.cos(tx_),np.sin(2*tx_),np.cos(2*tx_),np.sin(tx_)**2,np.cos(tx_)**2,np.sin(0.5*tx_),np.cos(0.5*tx_),\n",
    "#    (tx[:, 22] == 0).astype(np.float64)[:, np.newaxis],\n",
    "#    (tx[:, 22] == 1).astype(np.float64)[:, np.newaxis],\n",
    "#    (tx[:, 22] == 2).astype(np.float64)[:, np.newaxis],\n",
    "#    (tx[:, 22] == 3).astype(np.float64)[:, np.newaxis]))\n",
    "i = -1\n",
    "ind = np.where(tx[:, 22] > i)\n",
    "tx_ = np.delete(tx[tx[:, 22] > i], 22, axis = 1)\n",
    "#tx = np.hstack([tx[tx[:, 22] > 1],np.sin(tx_),np.cos(tx_)])#,np.sin(2*tx_),np.cos(2*tx_)])\n",
    "tx = np.delete(tx[tx[:, 22] > i], 22, axis = 1)\n",
    "#tx = build_derived_quantities(tx)\n",
    "tx = build_poly_cross_terms(tx, 3)\n",
    "# standardization\n",
    "tx_mean = np.mean(tx, axis=0)\n",
    "tx_std = np.std(tx, axis=0) \n",
    "tx[:, :-4] = (tx[:, :-4] - tx_mean[:-4]) / tx_std[:-4]\n",
    "\n",
    "# sin, cos term # improvement ~ 1%\n",
    "tx = np.hstack([tx, np.cos(tx),np.sin(2*tx),np.cos(2*tx)])\n",
    "\n",
    "# drop all-zero columns, which may cause tx.T @ tx a singular matrix\n",
    "zero_idx = np.argwhere(np.all(tx == 0, axis=0))\n",
    "tx = np.delete(tx, zero_idx, axis=1)\n",
    "\n",
    "# add the bias term to features\n",
    "bias_term = np.ones([tx.shape[0], 1])\n",
    "tx = np.hstack([tx, bias_term])\n",
    "\n",
    "# drop duplicate columns\n",
    "tx, unique_idx = np.unique(tx, axis=1, return_index=True)"
   ]
  },
  {
   "cell_type": "code",

   "execution_count": 84,

   "metadata": {},
   "outputs": [
    {
     "data": {
      "text/plain": [

       "((250000, 133), (250000,))"
      ]
     },
     "execution_count": 84,

     "metadata": {},
     "output_type": "execute_result"
    }
   ],
   "source": [

    "tx.shape, y.shape"
   ]
  },
  {
   "cell_type": "code",
   "execution_count": 6,
   "metadata": {},
   "outputs": [],
   "source": [
    "# y, tx, ids = load_csv_data(\"train.csv\", sub_sample=False)\n",
    "\n",
    "# # change outlier values to the mean without them\n",
    "# mean = []\n",
    "# for i in range(tx.shape[1]):\n",
    "#     tx[:, i][tx[:, i] == -999] = np.mean(tx[:, i][tx[:, i] != -999])\n",
    "#     mean.append(np.mean(tx[:, i][tx[:, i] != -999]))\n",
    "# # transform the categorical features into one-hot features\n",
    "# #tx_ = np.delete(tx, 22, axis = 1)\n",
    "# #tx = np.hstack((tx,tx_**2,tx_**3,np.sin(tx_),np.cos(tx_),np.sin(2*tx_),np.cos(2*tx_),np.sin(tx_)**2,np.cos(tx_)**2,np.sin(0.5*tx_),np.cos(0.5*tx_),\n",
    "# #    (tx[:, 22] == 0).astype(np.float64)[:, np.newaxis],\n",
    "# #    (tx[:, 22] == 1).astype(np.float64)[:, np.newaxis],\n",
    "# #    (tx[:, 22] == 2).astype(np.float64)[:, np.newaxis],\n",
    "# #    (tx[:, 22] == 3).astype(np.float64)[:, np.newaxis]))\n",
    "# ind = np.where(tx[:, 22] > 1)\n",
    "# tx_ = np.delete(tx[tx[:, 22] > 1], 22, axis = 1)\n",
    "# tx__ = np.hstack([tx[tx[:, 22] > 1],tx_[:,0].reshape((tx_.shape[0],1))*tx_,tx_[:,1].reshape((tx_.shape[0],1))*tx_,tx_[:,2].reshape((tx_.shape[0],1))*tx_,tx_[:,3].reshape((tx_.shape[0],1))*tx_,tx_[:,4].reshape((tx_.shape[0],1))*tx_,tx_[:,5].reshape((tx_.shape[0],1))*tx_,tx_[:,6].reshape((tx_.shape[0],1))*tx_,\n",
    "#                 tx_[:,7].reshape((tx_.shape[0],1))*tx_,np.sin(tx_),tx_[:,8].reshape((tx_.shape[0],1))*tx_,\n",
    "#                 tx_[:,9].reshape((tx_.shape[0],1))*tx_,tx_[:,10].reshape((tx_.shape[0],1))*tx_,\n",
    "#                 tx_[:,11].reshape((tx_.shape[0],1))*tx_,tx_[:,12].reshape((tx_.shape[0],1))*tx_,tx_[:,13].reshape((tx_.shape[0],1))*tx_,\n",
    "#                 tx_[:,14].reshape((tx_.shape[0],1))*tx_,tx_[:,15].reshape((tx_.shape[0],1))*tx_,tx_[:,16].reshape((tx_.shape[0],1))*tx_,\n",
    "#                 tx_[:,17].reshape((tx_.shape[0],1))*tx_,tx_[:,18].reshape((tx_.shape[0],1))*tx_,tx_[:,19].reshape((tx_.shape[0],1))*tx_,\n",
    "#                 np.cos(tx_),np.sin(2*tx_),np.cos(2*tx_)])\n",
    "# tx = np.hstack([tx_])\n",
    "# tx = np.delete(tx, 22, axis = 1)\n",
    "\n",
    "# # standardization\n",
    "# tx_mean = np.mean(tx, axis=0)\n",
    "# tx_std = np.std(tx, axis=0)\n",
    "# tx = (tx - tx_mean) / tx_std"
   ]
  },
  {
   "cell_type": "code",
   "execution_count": 7,
   "metadata": {},
   "outputs": [
    {
     "data": {
      "text/plain": [
       "(28,)"
      ]
     },
     "execution_count": 7,
     "metadata": {},
     "output_type": "execute_result"
    }
   ],
   "source": [
    "# #y.shape, tx.shape\n",
    "# np.mean(tx, axis = 0).shape\n"

   ]
  },
  {
   "cell_type": "markdown",
   "metadata": {},
   "source": [
    "### Gradient Descent"
   ]
  },
  {
   "cell_type": "code",

   "execution_count": 57,
   "metadata": {},
   "outputs": [
    {
     "name": "stdout",
     "output_type": "stream",
     "text": [

      "Gradient Descent: execution time = 29.765 seconds\n",
      "Gradient Descent: loss = 0.36004715000343607\n"

     ]
    }
   ],
   "source": [
    "# Define the parameters of the algorithm.\n",
    "max_iters = 100\n",

    "gamma = 0.005\n",

    "\n",
    "# Initialization\n",
    "initial_w = gd_ws#np.zeros(tx.shape[1])\n",
    "\n",
    "# Start gradient descent.\n",
    "start_time = datetime.datetime.now()\n",
    "gd_ws, gd_losses= least_squares_GD(y, tx, initial_w, max_iters, gamma)\n",
    "end_time = datetime.datetime.now()\n",
    "\n",
    "# Print result\n",
    "exection_time = (end_time - start_time).total_seconds()\n",
    "print(\"Gradient Descent: execution time = {t:.3f} seconds\".format(t=exection_time))\n",
    "print(\"Gradient Descent: loss = {t}\".format(t=gd_losses))\n",
    "\n",
    "y_pred = tx @ gd_ws\n",
    "y_pred[y_pred > 0] = 1\n",
    "y_pred[y_pred < 0] = -1\n",
    "print('Gradient descent accuracy:', np.mean(y_pred == y))"
   ]
  },
  {
   "cell_type": "code",

   "execution_count": 134,

   "metadata": {},
   "outputs": [
    {
     "name": "stdout",
     "output_type": "stream",
     "text": [

      "Gradient descent accuracy: 0.728773341586712\n"

     ]
    }
   ],
   "source": [
    "# cross validation for GD. Maybe No Need...\n",
    "\n",
    "from helpers import *\n",
    "\n",
    "k_fold = 5\n",
    "seed = None\n",
    "initial_w = np.zeros(tx.shape[1])\n",
    "max_iters = 10 \n",
    "gammas = np.logspace(-4, -2, 20)\n",
    "\n",
    "# select gamma\n",
    "gamma_ = hyperparameter_tuning_GD(tx, y, k_fold, seed, initial_w, max_iters, gammas)\n",
    "\n",
    "# Start gd\n",
    "gd_ws, gd_losses = least_squares_GD(y, tx, initial_w, max_iters, gamma_)\n",
    "\n",
    "# Print result\n",
    "print(\"Hyperparameter Selection: Gamma = {t}\".format(t=gamma_))\n",
    "print(\"Gradient Descent: loss = {t}\".format(t=gd_losses))\n",
    "\n",
    "y_pred = tx @ gd_ws\n",
    "y_pred[y_pred > 0] = 1\n",
    "y_pred[y_pred < 0] = -1\n",
    "print('Gradient descent accuracy:', np.mean(y_pred == y))"
   ]
  },
  {
   "cell_type": "markdown",
   "metadata": {},
   "source": [
    "### Stochastic Gradient Descent"
   ]
  },
  {
   "cell_type": "code",

   "execution_count": 29,
   "metadata": {},
   "outputs": [
    {
     "name": "stdout",
     "output_type": "stream",
     "text": [

      "Stochastic Gradient Descent: execution time = 5.598 seconds\n",
      "Stochastic Gradient Descent: loss = 0.3586645626245653\n"

     ]
    }
   ],
   "source": [
    "# Define the parameters of the algorithm.\n",

    "max_iters = 10\n",
    "gamma = 0.000000015\n",
    "sgd_ws = np.zeros(tx.shape[1])\n",

    "\n",
    "# Initialization\n",
    "initial_w = sgd_ws\n",
    "\n",
    "# Start gradient descent.\n",
    "start_time = datetime.datetime.now()\n",
    "sgd_ws, sgd_losses= least_squares_SGD(y, tx, initial_w, max_iters, gamma)\n",
    "end_time = datetime.datetime.now()\n",
    "\n",
    "# Print result\n",
    "exection_time = (end_time - start_time).total_seconds()\n",
    "print(\"Stochastic Gradient Descent: execution time = {t:.3f} seconds\".format(t=exection_time))\n",

    "print(\"Stochastic Gradient Descent: loss = {t}\".format(t=sgd_losses))\n",
    "\n",

    "y_pred = tx @ sgd_ws\n",
    "y_pred[y_pred > 0] = 1\n",
    "y_pred[y_pred < 0] = -1\n",
    "print('Stochastic gradient descent accuracy:', np.mean(y_pred == y))"
   ]
  },
  {
   "cell_type": "markdown",
   "metadata": {},
   "source": [
    "### Least Squares"
   ]
  },
  {
   "cell_type": "code",

   "execution_count": 97,
   "metadata": {},
   "outputs": [
    {
     "name": "stdout",
     "output_type": "stream",
     "text": [
      "Least Squares: execution time = 0.100 seconds\n",
      "Least Squares: loss = 0.2781518226797925\n",
      "Least squares accuracy: 0.814684\n"

     ]
    }
   ],
   "source": [
    "# Start least squares.\n",
    "start_time = datetime.datetime.now()\n",
    "ls_ws, ls_losses= least_squares(y, tx)\n",
    "end_time = datetime.datetime.now()\n",
    "\n",
    "# Print result\n",
    "exection_time = (end_time - start_time).total_seconds()\n",
    "print(\"Least Squares: execution time = {t:.3f} seconds\".format(t=exection_time))\n",

    "print(\"Least Squares: loss = {t}\".format(t=ls_losses))\n",
    "\n",

    "y_pred = tx @ ls_ws\n",
    "y_pred[y_pred > 0] = 1\n",
    "y_pred[y_pred < 0] = -1\n",
    "print('Least squares accuracy:', np.mean(y_pred == y[ind]))"
   ]
  },
  {
   "cell_type": "markdown",
   "metadata": {},
   "source": [
    "### Ridge Regression"
   ]
  },
  {
   "cell_type": "code",

   "execution_count": 103,

   "metadata": {},
   "outputs": [
    {
     "name": "stdout",
     "output_type": "stream",
     "text": [

      "Ridge Regression: execution time = 0.101 seconds\n",
      "Ridge Regression: loss = 0.2781518226797783\n",
      "Ridge Regression accuracy: 0.814684\n"

     ]
    }
   ],
   "source": [

    "# initialization\n",
    "degree = 1\n",
    "ratio = 0.8\n",
    "seed = None\n",
    "lambdas = np.logspace(-20, -15, 150)\n",
    "\n",
    "# select lambda\n",
    "lambda_ = hyperparameter_tuning_ridge_regression(tx, y[ind], degree, ratio, seed, lambdas)\n",
    "\n",
    "# Start ridge regression\n",
    "start_time = datetime.datetime.now()\n",
    "r_ws, r_losses = ridge_regression(y[ind], tx, lambda_)\n",

    "end_time = datetime.datetime.now()\n",
    "\n",
    "# Print result\n",
    "exection_time = (end_time - start_time).total_seconds()\n",
    "print(\"Ridge Regression: execution time = {t:.3f} seconds\".format(t=exection_time))\n",
    "print(\"Ridge Regression: loss = {t}\".format(t=r_losses))\n",
    "\n",
    "y_pred = tx @ r_ws\n",
    "y_pred[y_pred > 0] = 1\n",
    "y_pred[y_pred < 0] = -1\n",
    "print('Ridge Regression accuracy:', np.mean(y_pred == y))\n"
   ]
  },
  {
   "cell_type": "code",

   "execution_count": null,

   "metadata": {},
   "outputs": [],
   "source": [
    "# # initialization\n",
    "# degree = 1\n",
    "# ratio = 0.8\n",
    "# seed = None\n",
    "# lambdas = np.logspace(-20, -15, 150)\n",
    "\n",
    "# # select lambda\n",
    "# lambda_ = hyperparameter_tuning_ridge_regression(tx, y[ind], degree, ratio, seed, lambdas)\n",
    "\n",
    "# # Start ridge regression\n",
    "# start_time = datetime.datetime.now()\n",
    "# r_ws, r_losses = ridge_regression(y[ind], tx, lambda_)\n",
    "# end_time = datetime.datetime.now()\n",
    "\n",
    "# # Print result\n",
    "# exection_time = (end_time - start_time).total_seconds()\n",
    "# print(\"Ridge Regression: execution time = {t:.3f} seconds\".format(t=exection_time))\n",
    "# print(\"Hyperparameter Selection: Lambda = {t}\".format(t=lambda_))\n",
    "# print(\"Ridge Regression: loss = {t}\".format(t=r_losses))"
   ]
  },
  {
   "cell_type": "code",

   "execution_count": null,
   "metadata": {},
   "outputs": [],

   "source": [
    "# def build_k_indices(y, k_fold, seed):\n",
    "#     \"\"\"build k indices for k-fold.\n",
    "#     return dimension: k-fold * interval\n",
    "#     \"\"\"\n",
    "#     num_row = y.shape[0]\n",
    "#     interval = int(num_row / k_fold)\n",
    "#     np.random.seed(seed)\n",
    "#     indices = np.random.permutation(num_row)\n",
    "#     k_indices = [indices[k * interval: (k + 1) * interval] for k in range(k_fold)] \n",
    "#     return np.array(k_indices)"
   ]
  },
  {
   "cell_type": "code",
   "execution_count": null,
   "metadata": {},
   "outputs": [],
   "source": [
    "# # Cross Validation\n",
    "\n",

    "# Initialization\n",
    "seed = None\n",
    "k_fold = 5\n",
    "k_indices = build_k_indices(y[ind], k_fold, seed)\n",
    "\n",
    "train_acc = []\n",
    "val_acc = []\n",
    "for k in range(k_fold):\n",
    "    val_y = y[ind][k_indices[k, :]]\n",
    "    val_x = tx[k_indices[k, :]]\n",
    "    train_idx = np.vstack([k_indices[:k, :], k_indices[k+1:, :]]).flatten()\n",
    "    train_y = y[train_idx]\n",
    "    train_x = tx[train_idx]\n",
    "\n",
    "    print('------', k, 'fold ------')\n",
    "    w, loss = ridge_regression(train_y, train_x, lambda_)\n",
    "    pred = train_x @ w\n",
    "    pred[pred > 0] = 1\n",
    "    pred[pred < 0] = -1\n",
    "    train_acc.append(np.mean(pred == train_y))\n",
    "    print('Train acc:', np.mean(pred == train_y))\n",
    "    pred = val_x @ w\n",
    "    pred[pred > 0] = 1\n",
    "    pred[pred < 0] = -1\n",
    "    val_acc.append(np.mean(pred == val_y))\n",
    "    print('Validation acc:', np.mean(pred == val_y))\n",
    "\n",
    "print('------ summary ------')\n",
    "print('Average Train acc:', sum(train_acc)/len(train_acc))\n",
    "print('Average Validation acc:', sum(val_acc)/len(val_acc))"

   ]
  },
  {
   "cell_type": "markdown",
   "metadata": {},
   "source": [
    "## Logistic Regression"
   ]
  },
  {
   "cell_type": "code",

   "execution_count": 75,
   "metadata": {},
   "outputs": [
    {
     "name": "stdout",
     "output_type": "stream",
     "text": [
      "Gradient Descent: execution time = 7.196 seconds\n",
      "Gradient Descent: loss = nan\n"
     ]
    }
   ],

   "source": [
    "# Define the parameters of the algorithm.\n",
    "max_iters = 2\n",
    "gamma = 0.00005\n",
    "\n",
    "\n",
    "# Initialization\n",
    "initial_w = gd_ws#np.zeros((tx.shape[1]))\n",
    "\n",
    "# Start gradient descent.\n",
    "start_time = datetime.datetime.now()\n",
    "gd_ws, gd_losses= logistic_regression(y[ind], tx, initial_w, max_iters, gamma)\n",
    "end_time = datetime.datetime.now()\n",
    "\n",
    "# Print result\n",
    "exection_time = (end_time - start_time).total_seconds()\n",
    "print(\"Gradient Descent: execution time = {t:.3f} seconds\".format(t=exection_time))\n",
    "print(\"Gradient Descent: loss = {t}\".format(t=gd_losses))"
   ]
  },
  {
   "cell_type": "code",

   "execution_count": 12,
   "metadata": {},
   "outputs": [
    {
     "name": "stderr",
     "output_type": "stream",
     "text": [
      "/var/folders/c4/wb13541d4n104gj2c8s0pdf40000gn/T/ipykernel_17851/2333611001.py:10: DeprecationWarning: elementwise comparison failed; this will raise an error in the future.\n",
      "  (y_pred == y).mean()\n"
     ]
    },
    {
     "ename": "AttributeError",
     "evalue": "'bool' object has no attribute 'mean'",
     "output_type": "error",
     "traceback": [
      "\u001b[0;31m---------------------------------------------------------------------------\u001b[0m",
      "\u001b[0;31mAttributeError\u001b[0m                            Traceback (most recent call last)",
      "Input \u001b[0;32mIn [12]\u001b[0m, in \u001b[0;36m<cell line: 10>\u001b[0;34m()\u001b[0m\n\u001b[1;32m      7\u001b[0m y_pred \u001b[38;5;241m=\u001b[39m predict_labels_logit(gd_ws, tx)\n\u001b[1;32m      9\u001b[0m \u001b[38;5;66;03m# accuracy\u001b[39;00m\n\u001b[0;32m---> 10\u001b[0m \u001b[43m(\u001b[49m\u001b[43my_pred\u001b[49m\u001b[43m \u001b[49m\u001b[38;5;241;43m==\u001b[39;49m\u001b[43m \u001b[49m\u001b[43my\u001b[49m\u001b[43m)\u001b[49m\u001b[38;5;241;43m.\u001b[39;49m\u001b[43mmean\u001b[49m()\n",
      "\u001b[0;31mAttributeError\u001b[0m: 'bool' object has no attribute 'mean'"
     ]
    }
   ],

   "source": [
    "def predict_labels_logit(w, tx):\n",
    "    y_pred = sigmoid(np.dot(tx, w))\n",
    "    y_pred[np.where(y_pred <= 0.5)] = -1\n",
    "    y_pred[np.where(y_pred > 0.5)] = 1\n",
    "    return y_pred\n",
    "# predictions\n",
    "y_pred = predict_labels_logit(gd_ws, tx)\n",
    "\n",
    "# accuracy\n",
    "(y_pred == y[ind]).mean()"
   ]
  },
  {
   "cell_type": "markdown",
   "metadata": {},
   "source": [
    "## Regularized logistic regression"
   ]
  },
  {
   "cell_type": "code",
   "execution_count": null,
   "metadata": {},
   "outputs": [],
   "source": [
    "# Define the parameters of the algorithm.\n",
    "max_iters = 4\n",
    "gamma = 0.0001\n",
    "lambda_ = 0.000001\n",
    "\n",
    "# Initialization\n",
    "initial_w = np.random.normal(scale = 1/np.sqrt(tx.shape[0]), size=(tx.shape[1]))\n",
    "\n",
    "# Start gradient descent.\n",
    "start_time = datetime.datetime.now()\n",
    "gd_ws, gd_losses= reg_logistic_regression(y[ind], tx,lambda_, initial_w, max_iters, gamma)\n",
    "end_time = datetime.datetime.now()\n",
    "\n",
    "# Print result\n",
    "exection_time = (end_time - start_time).total_seconds()\n",
    "print(\"Gradient Descent: execution time = {t:.3f} seconds\".format(t=exection_time))\n",
    "print(\"Gradient Descent: loss = {t}\".format(t=gd_losses))"
   ]
  },
  {
   "cell_type": "code",

   "execution_count": 23,
   "metadata": {},
   "outputs": [
    {
     "data": {
      "text/plain": [
       "0.7225094082130599"
      ]
     },
     "execution_count": 23,
     "metadata": {},
     "output_type": "execute_result"
    }
   ],

   "source": [
    "# predictions\n",
    "y_pred = predict_labels_logit(gd_ws, tx)\n",
    "\n",
    "# accuracy\n",
    "(y_pred == y[ind]).mean()"
   ]
  },
  {
   "cell_type": "code",
   "execution_count": null,
   "metadata": {},
   "outputs": [],
   "source": [
    "#reg_logit_loss(y,tx,lambda_,gd_ws)\n",
    "#(sigmoid(tx@gd_ws)<0).sum()\n",
    "#tx@gd_ws"
   ]
  },
  {
   "cell_type": "code",
   "execution_count": 38,
   "metadata": {
    "scrolled": true
   },
   "outputs": [
    {
     "name": "stdout",
     "output_type": "stream",
     "text": [
      "[[ 3.35898036e-01  4.36714239e-01 -1.08552886e+00 ...  3.79638208e-01\n",
      "   1.85316930e+00  4.09065362e-01]\n",
      " [-7.16897628e-01 -4.66483417e-01  8.34344563e-02 ...  1.34748188e-02\n",
      "   2.92526652e+00  1.11434713e-02]\n",
      " [-2.93845346e-01  6.69180568e-01 -5.16860831e-02 ...  4.94311036e-03\n",
      "   2.31654982e+00  5.08748581e-04]\n",
      " ...\n",
      " [-3.90801233e-02  1.56653721e+01 -4.25443729e-01 ...  6.72410945e-02\n",
      "   5.28207188e-02  3.90736156e-02]\n",
      " [-9.83018290e-01 -2.88263123e-01 -4.32164038e-01 ...  8.42839357e-02\n",
      "   1.48404451e+00  1.14332379e+01]\n",
      " [ 2.11596036e-01 -3.80665862e-01  2.37009387e-01 ...  5.16061134e-04\n",
      "   3.90509401e-01  5.70755550e-03]]\n"
     ]
    },
    {
     "name": "stderr",
     "output_type": "stream",
     "text": [
      "100%|██████████████████████████████████████████████████████████████████████████████████| 20/20 [00:32<00:00,  1.63s/it]\n"
     ]
    },
    {
     "data": {
      "text/plain": [
       "(array([-7.37578127e-03,  1.03218455e+00, -1.26879096e-01, -7.58821245e-03,\n",
       "        -6.50856027e-03, -1.43952901e-03,  2.32947897e-02,  7.13720917e-03,\n",
       "        -2.13964680e-02,  1.24781735e-02,  1.31138696e-01,  4.20883612e-03,\n",
       "         8.45112644e-03, -4.43693947e-03, -1.83264673e-03, -9.61180968e-02,\n",
       "         4.87404886e-03, -9.23575047e-04,  3.75859714e-01,  1.05601116e-03,\n",
       "        -1.32052470e-02,  2.55997368e-03, -1.59968998e-03,  1.14561451e-02,\n",
       "         2.66795043e-03,  3.49003764e-04, -2.12900829e-03, -2.32405599e-02,\n",
       "        -3.23050165e-02, -3.69246963e-02, -1.61969676e-05,  9.43686552e-04,\n",
       "        -2.88026539e-03,  3.71721876e-02, -2.05313668e-03,  3.01359501e-03,\n",
       "        -6.94624991e-03, -1.26422817e-02,  4.32765941e-03,  9.13340245e-03,\n",
       "         4.34263214e-03,  4.92183143e-03,  2.67928722e-02, -8.75852039e-03,\n",
       "         4.02006423e-03, -1.82732932e-03,  4.01608429e-03,  4.43914916e-03,\n",
       "         5.03880787e-03,  7.22943279e-03, -2.29663689e-03,  8.60163948e-03,\n",
       "         4.77252147e-03, -6.06624651e-04]),\n",
       " array([-7.43074501e-03,  1.03234853e+00, -1.27366364e-01, -7.59495843e-03,\n",
       "        -6.46761347e-03, -1.48073505e-03,  2.34307597e-02,  7.13218384e-03,\n",
       "        -2.13412139e-02,  1.23675917e-02,  1.31279026e-01,  4.20614496e-03,\n",
       "         8.81584007e-03, -4.49582039e-03, -1.80349044e-03, -9.59127466e-02,\n",
       "         4.92371395e-03, -9.16285704e-04,  3.75943139e-01,  1.04348371e-03,\n",
       "        -1.31459901e-02,  2.56833592e-03, -1.59433469e-03,  1.14507913e-02,\n",
       "         2.67452565e-03,  3.42767371e-04, -2.21771345e-03, -2.37941436e-02,\n",
       "        -2.61959551e-02, -3.72226519e-02,  1.83869397e-05,  1.05174497e-03,\n",
       "        -2.85633773e-03,  3.74211272e-02, -2.07115959e-03,  2.92304781e-03,\n",
       "        -7.15318682e-03, -1.26259359e-02,  4.32684976e-03,  1.02470012e-02,\n",
       "         4.38965923e-03,  4.89695208e-03,  2.60645154e-02, -8.68882395e-03,\n",
       "         3.98813819e-03, -2.47698647e-03,  4.01581328e-03,  4.36772534e-03,\n",
       "         5.05867537e-03,  7.22519613e-03, -2.35988136e-03,  8.63892987e-03,\n",
       "         4.74105795e-03, -9.66787856e-04]),\n",
       " [0.23528896443386,\n",
       "  0.12582715190034008,\n",
       "  0.6004277721463286,\n",
       "  2.2035914896713273,\n",
       "  0.13022771074039255,\n",
       "  0.1243142151801192,\n",
       "  0.12519079482407672,\n",
       "  0.11531522022159665,\n",
       "  0.13239550258249155,\n",
       "  0.11775809396854865,\n",
       "  0.11323525514730019,\n",
       "  0.11561486639593731,\n",
       "  0.11492807562286807,\n",
       "  0.11837180145964993,\n",
       "  0.11414076308231115,\n",
       "  0.11329324236417038,\n",
       "  0.11304255312467562,\n",
       "  0.11301135719771735,\n",
       "  0.11299614608979719,\n",
       "  0.1140674187313934])"
      ]
     },
     "execution_count": 38,
     "metadata": {},
     "output_type": "execute_result"
    }
   ],
   "source": [
    "\n",
    "xx = build_poly(tx[:, 1:], 2)[:, 1:]\n",
    "print(xx)\n",
    "w_init = np.zeros(xx.shape[1])\n",
    "train_first_feature(tx[:, 0], xx, w_init, 0.0001, 20, 0)"
   ]
  },
  {
   "cell_type": "markdown",
   "metadata": {},
   "source": [
    "### Prediction"
   ]
  },
  {
   "cell_type": "markdown",
   "metadata": {},
   "source": [
    "#### To start, you shall upload text.csv to the branch"
   ]
  },
  {
   "cell_type": "code",
   "execution_count": 100,
   "metadata": {},
   "outputs": [],
   "source": [
    "_, tx_test, ids_test = load_csv_data(\"test.csv\", sub_sample=False)\n",
    "\n",
    "# force meaningless data into the means\n",
    "for i in range(tx_test.shape[1]):\n",
    "    tx_test[:, i][tx_test[:, i] == -999] = tx_mean_meaningful[i]\n",
    "\n",
    "# transform the categorical feature (PRI_jet_num) into onthot features\n",
    "tx_test = np.hstack((tx_test, \n",
    "    (tx_test[:, 22] == 0).astype(np.float64)[:, np.newaxis],\n",
    "    (tx_test[:, 22] == 1).astype(np.float64)[:, np.newaxis],\n",
    "    (tx_test[:, 22] == 2).astype(np.float64)[:, np.newaxis],\n",
    "    (tx_test[:, 22] == 3).astype(np.float64)[:, np.newaxis]))\n",
    "tx_test = np.delete(tx_test, 22, axis = 1)\n",
    "\n",
    "# standardization\n",
    "tx_test_mean = np.mean(tx_test, axis=0)\n",
    "tx_test_std = np.std(tx_test, axis=0)\n",
    "tx_test[:, :-4] = (tx_test[:, :-4] - tx_test_mean[:-4]) / tx_test_std[:-4]\n",
    "\n",
    "# sin, cos term # improvement ~\n",
    "tx_test = np.hstack([tx_test, np.cos(tx_test),np.sin(2*tx_test),np.cos(2*tx_test)])\n",
    "\n",
    "# drop all-zero columns, which may cause tX.T @ tX a singular matrix\n",
    "zero_idx = np.argwhere(np.all(tx_test == 0, axis=0))\n",
    "tx_test = np.delete(tx_test, zero_idx, axis=1)\n",
    "\n",
    "# add the bias term to features\n",
    "bias_term = np.ones([tx_test.shape[0], 1])\n",
    "tx_test = np.hstack([tx_test, bias_term])\n",
    "\n",
    "# drop duplicate columns\n",
    "tx_test = tx_test[:, unique_idx]"
   ]
  },
  {
   "cell_type": "code",

   "execution_count": 79,
   "metadata": {},
   "outputs": [
    {
     "ename": "ValueError",
     "evalue": "op_axes must be a tuple/list matching the number of ops",
     "output_type": "error",
     "traceback": [
      "\u001b[0;31m---------------------------------------------------------------------------\u001b[0m",
      "\u001b[0;31mValueError\u001b[0m                                Traceback (most recent call last)",
      "Input \u001b[0;32mIn [79]\u001b[0m, in \u001b[0;36m<cell line: 3>\u001b[0;34m()\u001b[0m\n\u001b[1;32m      1\u001b[0m \u001b[38;5;28;01mimport\u001b[39;00m \u001b[38;5;21;01mitertools\u001b[39;00m\n\u001b[0;32m----> 3\u001b[0m \u001b[38;5;28;01mfor\u001b[39;00m ind \u001b[38;5;129;01min\u001b[39;00m itertools\u001b[38;5;241m.\u001b[39mcombinations_with_replacement(\u001b[43mnp\u001b[49m\u001b[38;5;241;43m.\u001b[39;49m\u001b[43mnditer\u001b[49m\u001b[43m(\u001b[49m\u001b[43mtx\u001b[49m\u001b[43m,\u001b[49m\u001b[43mop_axes\u001b[49m\u001b[43m \u001b[49m\u001b[38;5;241;43m=\u001b[39;49m\u001b[43m \u001b[49m\u001b[38;5;241;43m0\u001b[39;49m\u001b[43m)\u001b[49m,\u001b[38;5;241m2\u001b[39m):\n\u001b[1;32m      4\u001b[0m     \u001b[38;5;28mprint\u001b[39m(ind)\n",
      "\u001b[0;31mValueError\u001b[0m: op_axes must be a tuple/list matching the number of ops"
     ]
    }
   ],
   "source": [
    "import itertools\n",
    "\n",
    "for ind in itertools.combinations_with_replacement(np.nditer(tx,op_axes = 0),2):\n",
    "    print(ind)"

   ]
  }
 ],
 "metadata": {
  "kernelspec": {
   "display_name": "Python 3 (ipykernel)",
   "language": "python",
   "name": "python3"
  },
  "language_info": {
   "codemirror_mode": {
    "name": "ipython",
    "version": 3
   },
   "file_extension": ".py",
   "mimetype": "text/x-python",
   "name": "python",
   "nbconvert_exporter": "python",
   "pygments_lexer": "ipython3",
   "version": "3.10.7"
  },
  "vscode": {
   "interpreter": {
    "hash": "a8877ca64660a6d07633c323136e70418fcd1020e7ad0cd0d4c67d6a541235ee"
   }
  }
 },
 "nbformat": 4,
 "nbformat_minor": 2
}
