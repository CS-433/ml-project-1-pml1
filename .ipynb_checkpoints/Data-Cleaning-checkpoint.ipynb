{
 "cells": [
  {
   "cell_type": "code",
   "execution_count": 2,
   "id": "f4e84d85",
   "metadata": {},
   "outputs": [],
   "source": [
    "from helpers import *\n",
    "from implementations import *"
   ]
  },
  {
   "cell_type": "code",
   "execution_count": 4,
   "id": "4aff5e33",
   "metadata": {},
   "outputs": [],
   "source": [
    "def split_according_num_split_jet(y,X,ids):\n",
    "    \"\"\" This method split the dataset into three sub-dataset. One for each case PRI_num_jet = 0, PRI_num_jet = 1,\n",
    "    PRI_num_jet >= 2, since for each of this case the available features are not the same. Before using this method,\n",
    "    we should complete the first column of X, since the DER_mass_MMC is not always definedfor each of this case but \n",
    "    is not meaningless.\n",
    "    \"\"\"\n",
    "    ind_0 = np.where(X[:,22]==0)\n",
    "    ind_1 = np.where(X[:,22]==1)\n",
    "    ind_2 = np.where(X[:,22]>=2)\n",
    "    \n",
    "    # features to keep for each model\n",
    "    col_0 = [0,1,2,3,7,8,9,10,11,13,14,15,16,17,18,19,20,21,29,30,\n",
    "             31,32,33,34,35,36,37,38,39,40,41,42,43,44]\n",
    "    col_1 = [0,1,2,3,7,8,9,10,11,13,14,15,16,17,18,19,20,21,23,24,\n",
    "             25,29,30,31,32,33,34,35,36,37,38,39,40,41,42,43,44,45,46,\n",
    "             47,48,49]\n",
    "    col_2 = np.arange(0,55,1)\n",
    "    \n",
    "    angle_0 = [15,18,20,43,44]\n",
    "    angle_1 = [15,18,20,25,43,44,49]\n",
    "    angle_2 = [15,18,20,28,25,43,44,49,54]\n",
    "    \n",
    "    X_0 = filter_data(X[ind_0,:],col_0,angle_0,0,2,[1,2])\n",
    "    \n",
    "    X_1 = filter_data(X[ind_1,:],col_1,angle_1,1,2,[1,2])\n",
    "    \n",
    "    X_2 = np.hstack([filter_data(X[ind_2,:],col_2,angle_2,2,2,[1,2]),\n",
    "                     (X[ind_2, 22] == 2).astype(np.float64)[:, np.newaxis],\n",
    "                     (X[ind_2, 22] == 3).astype(np.float64)[:, np.newaxis]])\n",
    "    \n",
    "    return {\"0\": {\"data\": X_0,\n",
    "                  \"label\": y[ind_0],\n",
    "                  \"ids\": ids[ind_0],\n",
    "                  \"ind\": ind_0},\n",
    "           \"1\": {\"data\": X_1,\n",
    "                  \"label\": y[ind_1],\n",
    "                  \"ids\": ids[ind_1],\n",
    "                  \"ind\": ind_1},\n",
    "           \"2\": {\"data\": X_2,\n",
    "                  \"label\": y[ind_2],\n",
    "                  \"ids\": ids[ind_2],\n",
    "                  \"ind\": ind_2}}\n",
    "    "
   ]
  },
  {
   "cell_type": "code",
   "execution_count": 3,
   "id": "6cca5927",
   "metadata": {},
   "outputs": [],
   "source": [
    "def filter_data(X,col,angle_col,model,deg_cross_term,frequence,deg_cross_sin,_type_=\"default\"):\n",
    "    \n",
    "    angle_col_complement = []\n",
    "    for c in col:\n",
    "        if c not in col:\n",
    "            angle_col_complement.append(c)\n",
    "            \n",
    "    if _type_ == \"default\":\n",
    "        return np.concatenate([build_poly_cross_terms(build_derived_quantities(X,model,concatenate=False),deg_cross_term),\n",
    "                              build_poly_cross_terms(X[:,angle_col_complement],deg_cross_term),\n",
    "                              sin_cos(build_add_minus_term(X[:,angle_col], frequence, degree_cross_sin))])\n"
   ]
  },
  {
   "cell_type": "code",
   "execution_count": 8,
   "id": "6cde24a1",
   "metadata": {},
   "outputs": [],
   "source": [
    "def DER_mass_MMC_completion(type_,X):\n",
    "    if type_ == \"mean\":\n",
    "        X[:,0][X[:,0]==-999] = np.mean(X[:,0][X[:,0]!=-999])\n",
    "        return X"
   ]
  },
  {
   "cell_type": "code",
   "execution_count": null,
   "id": "f77ea4e1",
   "metadata": {},
   "outputs": [],
   "source": []
  }
 ],
 "metadata": {
  "kernelspec": {
   "display_name": "Python 3 (ipykernel)",
   "language": "python",
   "name": "python3"
  },
  "language_info": {
   "codemirror_mode": {
    "name": "ipython",
    "version": 3
   },
   "file_extension": ".py",
   "mimetype": "text/x-python",
   "name": "python",
   "nbconvert_exporter": "python",
   "pygments_lexer": "ipython3",
   "version": "3.9.12"
  }
 },
 "nbformat": 4,
 "nbformat_minor": 5
}
