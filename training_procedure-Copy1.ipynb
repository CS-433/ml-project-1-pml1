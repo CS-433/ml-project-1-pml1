{
 "cells": [
  {
   "cell_type": "code",
   "execution_count": 4,
   "id": "41f5a9f3",
   "metadata": {},
   "outputs": [],
   "source": [
    "from helpers import *\n",
    "from implementations import *\n",
    "from tqdm import tqdm"
   ]
  },
  {
   "cell_type": "code",
   "execution_count": 5,
   "id": "039f85e6",
   "metadata": {},
   "outputs": [],
   "source": [
    "def train_first_feature(y, tx, initial_ws, initial_gamma = 0.001, num_iterations = 10, increase_limit = 0):\n",
    "    gamma = initial_gamma\n",
    "    sgd_ws = initial_ws\n",
    "    losses = []\n",
    "    best_loss = 10e10\n",
    "    best_w = initial_ws\n",
    "    num_increases = 0\n",
    "    for i in tqdm(range(num_iterations)):\n",
    "        sgd_ws, sgd_losses = least_squares_SGD(y, tx, sgd_ws, 1, gamma)\n",
    "        if losses[-1] < sgd_losses[-1]:\n",
    "            num_increases += 1\n",
    "            if num_increases > increase_limit :\n",
    "                gamma = gamma / 2\n",
    "        else:\n",
    "            num_increases = 0\n",
    "            if sgd_losses[-1] < best_loss:\n",
    "                best_loss = sgd_losses[-1]\n",
    "                best_w = sgd_ws\n",
    "        losses.extend(sgd_losses)\n",
    "    return best_w, sgd_ws, losses"
   ]
  },
  {
   "cell_type": "code",
   "execution_count": null,
   "id": "fea7dbcc",
   "metadata": {},
   "outputs": [],
   "source": [
    "def train_3_model(model_data,params,verbose):\n",
    "    "
   ]
  }
 ],
 "metadata": {
  "kernelspec": {
   "display_name": "Python 3 (ipykernel)",
   "language": "python",
   "name": "python3"
  },
  "language_info": {
   "codemirror_mode": {
    "name": "ipython",
    "version": 3
   },
   "file_extension": ".py",
   "mimetype": "text/x-python",
   "name": "python",
   "nbconvert_exporter": "python",
   "pygments_lexer": "ipython3",
   "version": "3.9.7"
  }
 },
 "nbformat": 4,
 "nbformat_minor": 5
}
