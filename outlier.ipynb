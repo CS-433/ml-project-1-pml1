{
 "cells": [
  {
   "cell_type": "code",
   "execution_count": 1,
   "metadata": {},
   "outputs": [],
   "source": [
    "import numpy as np\n",
    "\n",
    "from helpers import *\n",
    "from implementations import *\n",
    "from Data_Cleaning import *\n",
    "\n",
    "y, training, ids_training = load_csv_data(\"train.csv\", sub_sample=False)"
   ]
  },
  {
   "cell_type": "code",
   "execution_count": 2,
   "metadata": {},
   "outputs": [],
   "source": [
    "X = DER_mass_MMC_completion('mean', training)"
   ]
  },
  {
   "cell_type": "code",
   "execution_count": 3,
   "metadata": {},
   "outputs": [],
   "source": [
    "model_training = split_according_num_split_jet(y, X, ids_training)"
   ]
  },
  {
   "cell_type": "code",
   "execution_count": 4,
   "metadata": {},
   "outputs": [
    {
     "data": {
      "text/plain": [
       "True"
      ]
     },
     "execution_count": 4,
     "metadata": {},
     "output_type": "execute_result"
    }
   ],
   "source": [
    "tx_0 = model_training['0']['data']\n",
    "tx_1 = model_training['1']['data']\n",
    "tx_2 = model_training['2']['data']\n",
    "tx_0.shape[0] + tx_1.shape[0] + tx_2.shape[0] == training.shape[0]"
   ]
  },
  {
   "cell_type": "code",
   "execution_count": 5,
   "metadata": {},
   "outputs": [
    {
     "name": "stderr",
     "output_type": "stream",
     "text": [
      "c:\\Users\\wting\\AppData\\Local\\Programs\\Python\\Python310\\lib\\site-packages\\numpy\\core\\fromnumeric.py:3432: RuntimeWarning: Mean of empty slice.\n",
      "  return _methods._mean(a, axis=axis, dtype=dtype,\n",
      "c:\\Users\\wting\\AppData\\Local\\Programs\\Python\\Python310\\lib\\site-packages\\numpy\\core\\_methods.py:190: RuntimeWarning: invalid value encountered in double_scalars\n",
      "  ret = ret.dtype.type(ret / rcount)\n"
     ]
    }
   ],
   "source": [
    "tx_mean_meaningful_0 = np.zeros([tx_0.shape[1],])\n",
    "for i in range(tx_0.shape[1]):\n",
    "    tx_mean_meaningful_0[i] = np.mean(tx_0[:, i][tx_0[:, i] != -999])\n",
    "    tx_0[:, i][tx_0[:, i] == -999] = np.mean(tx_0[:, i][tx_0[:, i] == -999])"
   ]
  },
  {
   "cell_type": "code",
   "execution_count": null,
   "metadata": {},
   "outputs": [],
   "source": [
    "tx_mean_meaningful_1 = np.zeros([tx_1.shape[1],])\n",
    "for i in range(tx_1.shape[1]):\n",
    "    tx_mean_meaningful_1[i] = np.mean(tx_1[:, i][tx_1[:, i] != -999])\n",
    "    tx_1[:, i][tx_1[:, i] == -999] = np.mean(tx_1[:, i][tx_1[:, i] == -999])"
   ]
  },
  {
   "cell_type": "code",
   "execution_count": null,
   "metadata": {},
   "outputs": [],
   "source": [
    "tx_mean_meaningful_2 = np.zeros([tx_2.shape[1],])\n",
    "for i in range(tx_2.shape[1]):\n",
    "    tx_mean_meaningful_2[i] = np.mean(tx_2[:, i][tx_2[:, i] != -999])\n",
    "    tx_2[:, i][tx_2[:, i] == -999] = np.mean(tx_2[:, i][tx_2[:, i] == -999])"
   ]
  }
 ],
 "metadata": {
  "kernelspec": {
   "display_name": "Python 3.10.7 64-bit",
   "language": "python",
   "name": "python3"
  },
  "language_info": {
   "codemirror_mode": {
    "name": "ipython",
    "version": 3
   },
   "file_extension": ".py",
   "mimetype": "text/x-python",
   "name": "python",
   "nbconvert_exporter": "python",
   "pygments_lexer": "ipython3",
   "version": "3.10.7"
  },
  "orig_nbformat": 4,
  "vscode": {
   "interpreter": {
    "hash": "a8877ca64660a6d07633c323136e70418fcd1020e7ad0cd0d4c67d6a541235ee"
   }
  }
 },
 "nbformat": 4,
 "nbformat_minor": 2
}
