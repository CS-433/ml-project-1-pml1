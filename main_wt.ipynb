{
 "cells": [
  {
   "cell_type": "code",
   "execution_count": 12,
   "metadata": {},
   "outputs": [
    {
     "name": "stdout",
     "output_type": "stream",
     "text": [
      "The autoreload extension is already loaded. To reload it, use:\n",
      "  %reload_ext autoreload\n"
     ]
    }
   ],
   "source": [
    "# Useful starting lines\n",
    "%matplotlib inline\n",
    "import numpy as np\n",
    "import datetime\n",
    "import matplotlib.pyplot as plt\n",
    "\n",
    "from helpers import *\n",
    "from implementations import *\n",
    "from Data_Cleaning import *\n",
    "from training_procedure import *\n",
    "\n",
    "%load_ext autoreload\n",
    "%autoreload 2"
   ]
  },
  {
   "cell_type": "code",
   "execution_count": 13,
   "metadata": {},
   "outputs": [],
   "source": [
    "y, tx, ids = load_csv_data(\"train.csv\", sub_sample=False)"
   ]
  },
  {
   "cell_type": "code",
   "execution_count": 14,
   "metadata": {},
   "outputs": [],
   "source": [
    "# force meaningless data into the means\n",
    "tx_mean_meaningful = np.zeros([tx.shape[1],])\n",
    "for i in range(1, tx.shape[1]):\n",
    "    tx_mean_meaningful[i] = np.mean(tx[:, i][tx[:, i] != -999])\n",
    "    tx[:, i][tx[:, i] == -999] = tx_mean_meaningful[i]\n",
    "\n",
    "# delete categorical column '22'\n",
    "# tx = np.delete(tx, 22, axis = 1)"
   ]
  },
  {
   "cell_type": "code",
   "execution_count": 15,
   "metadata": {},
   "outputs": [
    {
     "data": {
      "text/plain": [
       "(250000, 30)"
      ]
     },
     "execution_count": 15,
     "metadata": {},
     "output_type": "execute_result"
    }
   ],
   "source": [
    "tx.shape"
   ]
  },
  {
   "cell_type": "code",
   "execution_count": 16,
   "metadata": {},
   "outputs": [],
   "source": [
    "def replaceFirstFeature(tx, initial_gamma):\n",
    "    correct = tx[tx[:,0]!=-999][:,1:]\n",
    "    ncorrect = tx[tx[:,0]==-999][:, 1:]\n",
    "\n",
    "    # # standardization\n",
    "    # correct = standardize(correct)\n",
    "    # ncorrect = standardize(ncorrect)\n",
    "\n",
    "    num_feat = correct.shape[1]\n",
    "    # add cross quadratic terms\n",
    "    for i in range(num_feat):\n",
    "        new_features_xx = np.multiply(correct[:, i:num_feat], correct[:, 0:num_feat-i])\n",
    "        new_features_xxN = np.multiply(ncorrect[:, i:num_feat], ncorrect[:, 0:num_feat-i])\n",
    "        xx = np.hstack([correct, new_features_xx])\n",
    "        xxN = np.hstack([ncorrect, new_features_xxN])\n",
    "\n",
    "    # standardization\n",
    "    xx = standardize(xx)\n",
    "    xxN = standardize(xxN)\n",
    "\n",
    "    # add the bias term \n",
    "    bias_term_xx = np.ones([xx.shape[0], 1])\n",
    "    bias_term_xxN = np.ones([xxN.shape[0], 1])\n",
    "    xx = np.hstack([bias_term_xx, xx])\n",
    "    xxN = np.hstack([bias_term_xxN, xxN])\n",
    "\n",
    "    w_init = np.zeros(xx.shape[1])\n",
    "    best_w, best_loss = train_first_feature(tx[:,0][tx[:,0] != -999], xx, w_init, initial_gamma, 20, 0)\n",
    "    newFirst = xxN.dot(best_w)\n",
    "    print(f\"Best loss: {best_loss}\")\n",
    "    tx[:,0][tx[:,0]==-999] = newFirst\n",
    "    # tx[tx[:,0]==-999][:,0] = newFirst\n",
    "\n",
    "    return tx"
   ]
  },
  {
   "cell_type": "code",
   "execution_count": 17,
   "metadata": {},
   "outputs": [
    {
     "name": "stderr",
     "output_type": "stream",
     "text": [
      "  5%|▌         | 1/20 [00:01<00:24,  1.32s/it]"
     ]
    },
    {
     "name": "stdout",
     "output_type": "stream",
     "text": [
      "Linear Regression SGD(0/19): loss=156.06728948788526\n"
     ]
    },
    {
     "name": "stderr",
     "output_type": "stream",
     "text": [
      " 10%|█         | 2/20 [00:02<00:23,  1.31s/it]"
     ]
    },
    {
     "name": "stdout",
     "output_type": "stream",
     "text": [
      "Linear Regression SGD(1/19): loss=155.80362675009775\n"
     ]
    },
    {
     "name": "stderr",
     "output_type": "stream",
     "text": [
      " 15%|█▌        | 3/20 [00:03<00:22,  1.32s/it]"
     ]
    },
    {
     "name": "stdout",
     "output_type": "stream",
     "text": [
      "Linear Regression SGD(2/19): loss=152.69747847225102\n"
     ]
    },
    {
     "name": "stderr",
     "output_type": "stream",
     "text": [
      " 20%|██        | 4/20 [00:05<00:21,  1.31s/it]"
     ]
    },
    {
     "name": "stdout",
     "output_type": "stream",
     "text": [
      "Linear Regression SGD(3/19): loss=161.26356216251733\n"
     ]
    },
    {
     "name": "stderr",
     "output_type": "stream",
     "text": [
      " 25%|██▌       | 5/20 [00:06<00:19,  1.31s/it]"
     ]
    },
    {
     "name": "stdout",
     "output_type": "stream",
     "text": [
      "Linear Regression SGD(4/19): loss=153.84027673820637\n"
     ]
    },
    {
     "name": "stderr",
     "output_type": "stream",
     "text": [
      " 30%|███       | 6/20 [00:07<00:18,  1.30s/it]"
     ]
    },
    {
     "name": "stdout",
     "output_type": "stream",
     "text": [
      "Linear Regression SGD(5/19): loss=152.09616106270047\n"
     ]
    },
    {
     "name": "stderr",
     "output_type": "stream",
     "text": [
      " 35%|███▌      | 7/20 [00:09<00:17,  1.31s/it]"
     ]
    },
    {
     "name": "stdout",
     "output_type": "stream",
     "text": [
      "Linear Regression SGD(6/19): loss=152.4518123341003\n"
     ]
    },
    {
     "name": "stderr",
     "output_type": "stream",
     "text": [
      " 40%|████      | 8/20 [00:10<00:15,  1.30s/it]"
     ]
    },
    {
     "name": "stdout",
     "output_type": "stream",
     "text": [
      "Linear Regression SGD(7/19): loss=178.06465504894652\n"
     ]
    },
    {
     "name": "stderr",
     "output_type": "stream",
     "text": [
      " 45%|████▌     | 9/20 [00:11<00:14,  1.30s/it]"
     ]
    },
    {
     "name": "stdout",
     "output_type": "stream",
     "text": [
      "Linear Regression SGD(8/19): loss=151.9460978583399\n"
     ]
    },
    {
     "name": "stderr",
     "output_type": "stream",
     "text": [
      " 50%|█████     | 10/20 [00:13<00:13,  1.30s/it]"
     ]
    },
    {
     "name": "stdout",
     "output_type": "stream",
     "text": [
      "Linear Regression SGD(9/19): loss=151.6914812105734\n"
     ]
    },
    {
     "name": "stderr",
     "output_type": "stream",
     "text": [
      " 55%|█████▌    | 11/20 [00:14<00:11,  1.31s/it]"
     ]
    },
    {
     "name": "stdout",
     "output_type": "stream",
     "text": [
      "Linear Regression SGD(10/19): loss=151.437143054692\n"
     ]
    },
    {
     "name": "stderr",
     "output_type": "stream",
     "text": [
      " 60%|██████    | 12/20 [00:15<00:10,  1.30s/it]"
     ]
    },
    {
     "name": "stdout",
     "output_type": "stream",
     "text": [
      "Linear Regression SGD(11/19): loss=154.51823386142792\n"
     ]
    },
    {
     "name": "stderr",
     "output_type": "stream",
     "text": [
      " 65%|██████▌   | 13/20 [00:16<00:09,  1.30s/it]"
     ]
    },
    {
     "name": "stdout",
     "output_type": "stream",
     "text": [
      "Linear Regression SGD(12/19): loss=151.15302533108695\n"
     ]
    },
    {
     "name": "stderr",
     "output_type": "stream",
     "text": [
      " 70%|███████   | 14/20 [00:18<00:07,  1.30s/it]"
     ]
    },
    {
     "name": "stdout",
     "output_type": "stream",
     "text": [
      "Linear Regression SGD(13/19): loss=151.9091414481697\n"
     ]
    },
    {
     "name": "stderr",
     "output_type": "stream",
     "text": [
      " 75%|███████▌  | 15/20 [00:19<00:06,  1.31s/it]"
     ]
    },
    {
     "name": "stdout",
     "output_type": "stream",
     "text": [
      "Linear Regression SGD(14/19): loss=150.88638192958098\n"
     ]
    },
    {
     "name": "stderr",
     "output_type": "stream",
     "text": [
      " 80%|████████  | 16/20 [00:20<00:05,  1.31s/it]"
     ]
    },
    {
     "name": "stdout",
     "output_type": "stream",
     "text": [
      "Linear Regression SGD(15/19): loss=151.09083833056079\n"
     ]
    },
    {
     "name": "stderr",
     "output_type": "stream",
     "text": [
      " 85%|████████▌ | 17/20 [00:22<00:03,  1.30s/it]"
     ]
    },
    {
     "name": "stdout",
     "output_type": "stream",
     "text": [
      "Linear Regression SGD(16/19): loss=150.85441537748946\n"
     ]
    },
    {
     "name": "stderr",
     "output_type": "stream",
     "text": [
      " 90%|█████████ | 18/20 [00:23<00:02,  1.30s/it]"
     ]
    },
    {
     "name": "stdout",
     "output_type": "stream",
     "text": [
      "Linear Regression SGD(17/19): loss=150.69614674329944\n"
     ]
    },
    {
     "name": "stderr",
     "output_type": "stream",
     "text": [
      " 95%|█████████▌| 19/20 [00:24<00:01,  1.31s/it]"
     ]
    },
    {
     "name": "stdout",
     "output_type": "stream",
     "text": [
      "Linear Regression SGD(18/19): loss=150.7767325831206\n"
     ]
    },
    {
     "name": "stderr",
     "output_type": "stream",
     "text": [
      "100%|██████████| 20/20 [00:26<00:00,  1.31s/it]"
     ]
    },
    {
     "name": "stdout",
     "output_type": "stream",
     "text": [
      "Linear Regression SGD(19/19): loss=150.71852435061675\n",
      "Best loss: 150.69614674329944\n"
     ]
    },
    {
     "name": "stderr",
     "output_type": "stream",
     "text": [
      "\n"
     ]
    }
   ],
   "source": [
    "initial_gamma = 0.001\n",
    "tx = replaceFirstFeature(tx, initial_gamma)"
   ]
  },
  {
   "cell_type": "code",
   "execution_count": 18,
   "metadata": {},
   "outputs": [
    {
     "data": {
      "text/plain": [
       "(array([], dtype=float64), (250000, 30))"
      ]
     },
     "execution_count": 18,
     "metadata": {},
     "output_type": "execute_result"
    }
   ],
   "source": [
    "tx[tx[:,0]==-999][:,0], tx.shape"
   ]
  },
  {
   "cell_type": "code",
   "execution_count": 19,
   "metadata": {},
   "outputs": [],
   "source": [
    "model_training = split_according_num_split_jet(y, tx, ids)"
   ]
  },
  {
   "cell_type": "code",
   "execution_count": 20,
   "metadata": {},
   "outputs": [
    {
     "data": {
      "text/plain": [
       "True"
      ]
     },
     "execution_count": 20,
     "metadata": {},
     "output_type": "execute_result"
    }
   ],
   "source": [
    "tx_0 = model_training['0']['data']\n",
    "tx_1 = model_training['1']['data']\n",
    "tx_2 = model_training['2']['data']\n",
    "tx_0.shape[0] + tx_1.shape[0] + tx_2.shape[0] == tx.shape[0]"
   ]
  },
  {
   "cell_type": "code",
   "execution_count": 21,
   "metadata": {},
   "outputs": [],
   "source": [
    "tx_mean_meaningful_0 = np.zeros([tx_0.shape[1],])\n",
    "for i in range(tx_0.shape[1]):\n",
    "    tx_mean_meaningful_0[i] = np.mean(tx_0[:, i][tx_0[:, i] != -999])\n",
    "    tx_0[:, i][tx_0[:, i] == -999] = tx_mean_meaningful_0[i]"
   ]
  },
  {
   "cell_type": "code",
   "execution_count": null,
   "metadata": {},
   "outputs": [],
   "source": [
    "tx_mean_meaningful_1 = np.zeros([tx_1.shape[1],])\n",
    "for i in range(tx_1.shape[1]):\n",
    "    tx_mean_meaningful_1[i] = np.mean(tx_1[:, i][tx_1[:, i] != -999])\n",
    "    tx_1[:, i][tx_1[:, i] == -999] = tx_mean_meaningful_1[i]"
   ]
  },
  {
   "cell_type": "code",
   "execution_count": null,
   "metadata": {},
   "outputs": [],
   "source": [
    "tx_mean_meaningful_2 = np.zeros([tx_2.shape[1],])\n",
    "for i in range(tx_2.shape[1]):\n",
    "    tx_mean_meaningful_2[i] = np.mean(tx_2[:, i][tx_2[:, i] != -999])\n",
    "    tx_2[:, i][tx_2[:, i] == -999] = tx_mean_meaningful_2[i]"
   ]
  }
 ],
 "metadata": {
  "kernelspec": {
   "display_name": "Python 3.10.7 64-bit",
   "language": "python",
   "name": "python3"
  },
  "language_info": {
   "codemirror_mode": {
    "name": "ipython",
    "version": 3
   },
   "file_extension": ".py",
   "mimetype": "text/x-python",
   "name": "python",
   "nbconvert_exporter": "python",
   "pygments_lexer": "ipython3",
   "version": "3.10.7"
  },
  "orig_nbformat": 4,
  "vscode": {
   "interpreter": {
    "hash": "a8877ca64660a6d07633c323136e70418fcd1020e7ad0cd0d4c67d6a541235ee"
   }
  }
 },
 "nbformat": 4,
 "nbformat_minor": 2
}
