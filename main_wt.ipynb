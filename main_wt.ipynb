{
 "cells": [
  {
   "cell_type": "code",
   "execution_count": 165,
   "metadata": {},
   "outputs": [
    {
     "name": "stdout",
     "output_type": "stream",
     "text": [
      "The autoreload extension is already loaded. To reload it, use:\n",
      "  %reload_ext autoreload\n"
     ]
    }
   ],
   "source": [
    "# Useful starting lines\n",
    "%matplotlib inline\n",
    "import numpy as np\n",
    "import datetime\n",
    "import matplotlib.pyplot as plt\n",
    "\n",
    "from helpers import *\n",
    "from implementations import *\n",
    "from Data_Cleaning import *\n",
    "from training_procedure import *\n",
    "\n",
    "%load_ext autoreload\n",
    "%autoreload 2"
   ]
  },
  {
   "cell_type": "code",
   "execution_count": 141,
   "metadata": {},
   "outputs": [
    {
     "data": {
      "text/plain": [
       "(1.118033988749895, array([[1.25]]))"
      ]
     },
     "execution_count": 141,
     "metadata": {},
     "output_type": "execute_result"
    }
   ],
   "source": [
    "initial_w = np.array([[0.5], [1.0]])\n",
    "np.linalg.norm(initial_w), np.dot(initial_w.T, initial_w)"
   ]
  },
  {
   "cell_type": "code",
   "execution_count": 127,
   "metadata": {},
   "outputs": [
    {
     "data": {
      "text/plain": [
       "(array([[0.463156],\n",
       "        [0.939874]]),\n",
       " 1.5336935954900122)"
      ]
     },
     "execution_count": 127,
     "metadata": {},
     "output_type": "execute_result"
    }
   ],
   "source": [
    "initial_w = np.array([[0.5], [1.0]])\n",
    "y = np.array([[0.1], [0.3], [0.5]])\n",
    "tx = np.array([[2.3, 3.2], [1.0, 0.1], [1.4, 2.3]])\n",
    "MAX_ITERS = 2\n",
    "GAMMA = 0.1\n",
    "\n",
    "expected_w = np.array([[0.463156], [0.939874]])\n",
    "y = (y > 0.2) * 1.0\n",
    "w, loss = logistic_regression(y, tx, expected_w, 0, GAMMA)\n",
    "w, loss"
   ]
  },
  {
   "cell_type": "code",
   "execution_count": 128,
   "metadata": {},
   "outputs": [
    {
     "data": {
      "text/plain": [
       "(array([[0.37856053],\n",
       "        [0.80113119]]),\n",
       " 1.3483578175129305)"
      ]
     },
     "execution_count": 128,
     "metadata": {},
     "output_type": "execute_result"
    }
   ],
   "source": [
    "initial_w = np.array([[0.5], [1.0]])\n",
    "y = np.array([[0.1], [0.3], [0.5]])\n",
    "tx = np.array([[2.3, 3.2], [1.0, 0.1], [1.4, 2.3]])\n",
    "MAX_ITERS = 2\n",
    "GAMMA = 0.1\n",
    "\n",
    "y = (y > 0.2) * 1.0\n",
    "w, loss = logistic_regression(y, tx, initial_w, MAX_ITERS, GAMMA)\n",
    "w, loss"
   ]
  },
  {
   "cell_type": "code",
   "execution_count": 167,
   "metadata": {},
   "outputs": [
    {
     "data": {
      "text/plain": [
       "(array([[0.409111],\n",
       "        [0.843996]]),\n",
       " 1.4073273893870055)"
      ]
     },
     "execution_count": 167,
     "metadata": {},
     "output_type": "execute_result"
    }
   ],
   "source": [
    "from helpers import *\n",
    "\n",
    "initial_w = np.array([[0.5], [1.0]])\n",
    "y = np.array([[0.1], [0.3], [0.5]])\n",
    "tx = np.array([[2.3, 3.2], [1.0, 0.1], [1.4, 2.3]])\n",
    "MAX_ITERS = 2\n",
    "GAMMA = 0.1\n",
    "\n",
    "lambda_ = 1.0\n",
    "y = (y > 0.2) * 1.0\n",
    "expected_w = np.array([[0.409111], [0.843996]])\n",
    "w, loss = reg_logistic_regression(\n",
    "    y, tx, lambda_, expected_w, 0, GAMMA\n",
    ")\n",
    "w, loss"
   ]
  },
  {
   "cell_type": "code",
   "execution_count": 163,
   "metadata": {},
   "outputs": [
    {
     "data": {
      "text/plain": [
       "array([[0.87970106]])"
      ]
     },
     "execution_count": 163,
     "metadata": {},
     "output_type": "execute_result"
    }
   ],
   "source": [
    "w_ = np.array([[0.409111], [0.843996]])\n",
    "lambda_ = 1.0\n",
    "lambda_*np.dot(w_.T, w_)"
   ]
  },
  {
   "cell_type": "code",
   "execution_count": 166,
   "metadata": {},
   "outputs": [
    {
     "data": {
      "text/plain": [
       "(array([[0.21606187],\n",
       "        [0.46774656]]),\n",
       " 0.9721649929512526)"
      ]
     },
     "execution_count": 166,
     "metadata": {},
     "output_type": "execute_result"
    }
   ],
   "source": [
    "from helpers import *\n",
    "\n",
    "initial_w = np.array([[0.5], [1.0]])\n",
    "y = np.array([[0.1], [0.3], [0.5]])\n",
    "tx = np.array([[2.3, 3.2], [1.0, 0.1], [1.4, 2.3]])\n",
    "MAX_ITERS = 2\n",
    "GAMMA = 0.1\n",
    "\n",
    "lambda_ = 1.0\n",
    "y = (y > 0.2) * 1.0\n",
    "w, loss = reg_logistic_regression(\n",
    "    y, tx, lambda_, initial_w, MAX_ITERS, GAMMA\n",
    ")\n",
    "w, loss"
   ]
  },
  {
   "cell_type": "code",
   "execution_count": 5,
   "metadata": {},
   "outputs": [],
   "source": [
    "y, tx, ids = load_csv_data(\"train.csv\", sub_sample=False)"
   ]
  },
  {
   "cell_type": "code",
   "execution_count": 107,
   "metadata": {},
   "outputs": [
    {
     "data": {
      "text/plain": [
       "(250000, 30)"
      ]
     },
     "execution_count": 107,
     "metadata": {},
     "output_type": "execute_result"
    }
   ],
   "source": [
    "tx.shape"
   ]
  },
  {
   "cell_type": "code",
   "execution_count": 108,
   "metadata": {},
   "outputs": [],
   "source": [
    "def replaceFirstFeature(tx, initial_gamma):\n",
    "    correct = tx[tx[:,0]!=-999][:,1:]\n",
    "    ncorrect = tx[tx[:,0]==-999][:, 1:]\n",
    "\n",
    "    # delete missing value columns \n",
    "    correct = np.delete(correct, [3, 4, 5, 11, 22, 23, 24, 25, 26, 27], axis = 1)\n",
    "    ncorrect = np.delete(ncorrect, [3, 4, 5, 11, 22, 23, 24, 25, 26, 27], axis = 1)\n",
    "\n",
    "    # transform the categorical features into one-hot features\n",
    "    correct = np.hstack((correct, \n",
    "    (correct[:, 17] == 0).astype(np.float64)[:, np.newaxis],\n",
    "    (correct[:, 17] == 1).astype(np.float64)[:, np.newaxis],\n",
    "    (correct[:, 17] == 2).astype(np.float64)[:, np.newaxis],\n",
    "    (correct[:, 17] == 3).astype(np.float64)[:, np.newaxis]))\n",
    "    correct = np.delete(correct, 17, axis = 1)\n",
    "\n",
    "    ncorrect = np.hstack((ncorrect, \n",
    "    (ncorrect[:, 17] == 0).astype(np.float64)[:, np.newaxis],\n",
    "    (ncorrect[:, 17] == 1).astype(np.float64)[:, np.newaxis],\n",
    "    (ncorrect[:, 17] == 2).astype(np.float64)[:, np.newaxis],\n",
    "    (ncorrect[:, 17] == 3).astype(np.float64)[:, np.newaxis]))\n",
    "    ncorrect = np.delete(ncorrect, 17, axis = 1)\n",
    "\n",
    "    # # standardization\n",
    "    # correct = standardize(correct)\n",
    "    # ncorrect = standardize(ncorrect)\n",
    "\n",
    "    # standardization\n",
    "    correct[:, :-4] = standardize(correct[:, :-4])\n",
    "    ncorrect[:, :-4] = standardize(ncorrect[:, :-4])\n",
    "\n",
    "    num_feat = correct.shape[1]\n",
    "    # add cross quadratic terms\n",
    "    for i in range(num_feat):\n",
    "        new_features_xx = np.multiply(correct[:, i:num_feat], correct[:, 0:num_feat-i])\n",
    "        new_features_xxN = np.multiply(ncorrect[:, i:num_feat], ncorrect[:, 0:num_feat-i])\n",
    "        xx = np.hstack([correct, new_features_xx])\n",
    "        xxN = np.hstack([ncorrect, new_features_xxN])\n",
    "\n",
    "    # # standardization\n",
    "    # xx = standardize(xx)\n",
    "    # xxN = standardize(xxN)\n",
    "\n",
    "    # add the bias term \n",
    "    bias_term_xx = np.ones([xx.shape[0], 1])\n",
    "    bias_term_xxN = np.ones([xxN.shape[0], 1])\n",
    "    xx = np.hstack([bias_term_xx, xx])\n",
    "    xxN = np.hstack([bias_term_xxN, xxN])\n",
    "\n",
    "    w_init = np.zeros(xx.shape[1])\n",
    "    best_w, best_loss = train_first_feature(tx[:,0][tx[:,0] != -999], xx, w_init, initial_gamma, 30, 0)\n",
    "    newFirst = xxN.dot(best_w)\n",
    "    print(f\"Best loss: {best_loss}\")\n",
    "    tx[:,0][tx[:,0]==-999] = newFirst\n",
    "    # tx[tx[:,0]==-999][:,0] = newFirst\n",
    "\n",
    "    return tx"
   ]
  },
  {
   "cell_type": "code",
   "execution_count": 109,
   "metadata": {},
   "outputs": [
    {
     "name": "stderr",
     "output_type": "stream",
     "text": [
      "  3%|▎         | 1/30 [00:01<00:40,  1.40s/it]"
     ]
    },
    {
     "name": "stdout",
     "output_type": "stream",
     "text": [
      "Linear Regression SGD(0/29): loss=152.04840802599094\n"
     ]
    },
    {
     "name": "stderr",
     "output_type": "stream",
     "text": [
      "  7%|▋         | 2/30 [00:02<00:40,  1.44s/it]"
     ]
    },
    {
     "name": "stdout",
     "output_type": "stream",
     "text": [
      "Linear Regression SGD(1/29): loss=155.35716178706807\n"
     ]
    },
    {
     "name": "stderr",
     "output_type": "stream",
     "text": [
      " 10%|█         | 3/30 [00:04<00:38,  1.42s/it]"
     ]
    },
    {
     "name": "stdout",
     "output_type": "stream",
     "text": [
      "Linear Regression SGD(2/29): loss=152.06113909566614\n"
     ]
    },
    {
     "name": "stderr",
     "output_type": "stream",
     "text": [
      " 13%|█▎        | 4/30 [00:05<00:36,  1.42s/it]"
     ]
    },
    {
     "name": "stdout",
     "output_type": "stream",
     "text": [
      "Linear Regression SGD(3/29): loss=152.55575146754333\n"
     ]
    },
    {
     "name": "stderr",
     "output_type": "stream",
     "text": [
      " 17%|█▋        | 5/30 [00:07<00:35,  1.41s/it]"
     ]
    },
    {
     "name": "stdout",
     "output_type": "stream",
     "text": [
      "Linear Regression SGD(4/29): loss=152.1018049475845\n"
     ]
    },
    {
     "name": "stderr",
     "output_type": "stream",
     "text": [
      " 20%|██        | 6/30 [00:08<00:34,  1.43s/it]"
     ]
    },
    {
     "name": "stdout",
     "output_type": "stream",
     "text": [
      "Linear Regression SGD(5/29): loss=152.5417177013852\n"
     ]
    },
    {
     "name": "stderr",
     "output_type": "stream",
     "text": [
      " 23%|██▎       | 7/30 [00:09<00:32,  1.42s/it]"
     ]
    },
    {
     "name": "stdout",
     "output_type": "stream",
     "text": [
      "Linear Regression SGD(6/29): loss=152.41955645138373\n"
     ]
    },
    {
     "name": "stderr",
     "output_type": "stream",
     "text": [
      " 27%|██▋       | 8/30 [00:11<00:31,  1.41s/it]"
     ]
    },
    {
     "name": "stdout",
     "output_type": "stream",
     "text": [
      "Linear Regression SGD(7/29): loss=151.1427764900052\n"
     ]
    },
    {
     "name": "stderr",
     "output_type": "stream",
     "text": [
      " 30%|███       | 9/30 [00:12<00:29,  1.43s/it]"
     ]
    },
    {
     "name": "stdout",
     "output_type": "stream",
     "text": [
      "Linear Regression SGD(8/29): loss=158.49861142420178\n"
     ]
    },
    {
     "name": "stderr",
     "output_type": "stream",
     "text": [
      " 33%|███▎      | 10/30 [00:14<00:28,  1.42s/it]"
     ]
    },
    {
     "name": "stdout",
     "output_type": "stream",
     "text": [
      "Linear Regression SGD(9/29): loss=151.85042975114598\n"
     ]
    },
    {
     "name": "stderr",
     "output_type": "stream",
     "text": [
      " 37%|███▋      | 11/30 [00:15<00:26,  1.42s/it]"
     ]
    },
    {
     "name": "stdout",
     "output_type": "stream",
     "text": [
      "Linear Regression SGD(10/29): loss=150.8914756114209\n"
     ]
    },
    {
     "name": "stderr",
     "output_type": "stream",
     "text": [
      " 40%|████      | 12/30 [00:17<00:29,  1.65s/it]"
     ]
    },
    {
     "name": "stdout",
     "output_type": "stream",
     "text": [
      "Linear Regression SGD(11/29): loss=151.23200058416703\n"
     ]
    },
    {
     "name": "stderr",
     "output_type": "stream",
     "text": [
      " 43%|████▎     | 13/30 [00:20<00:31,  1.86s/it]"
     ]
    },
    {
     "name": "stdout",
     "output_type": "stream",
     "text": [
      "Linear Regression SGD(12/29): loss=150.78096389374937\n"
     ]
    },
    {
     "name": "stderr",
     "output_type": "stream",
     "text": [
      " 47%|████▋     | 14/30 [00:22<00:31,  1.97s/it]"
     ]
    },
    {
     "name": "stdout",
     "output_type": "stream",
     "text": [
      "Linear Regression SGD(13/29): loss=151.29604415314606\n"
     ]
    },
    {
     "name": "stderr",
     "output_type": "stream",
     "text": [
      " 50%|█████     | 15/30 [00:24<00:28,  1.92s/it]"
     ]
    },
    {
     "name": "stdout",
     "output_type": "stream",
     "text": [
      "Linear Regression SGD(14/29): loss=150.81342118013671\n"
     ]
    },
    {
     "name": "stderr",
     "output_type": "stream",
     "text": [
      " 53%|█████▎    | 16/30 [00:25<00:25,  1.83s/it]"
     ]
    },
    {
     "name": "stdout",
     "output_type": "stream",
     "text": [
      "Linear Regression SGD(15/29): loss=150.76558970218267\n"
     ]
    },
    {
     "name": "stderr",
     "output_type": "stream",
     "text": [
      " 57%|█████▋    | 17/30 [00:27<00:23,  1.78s/it]"
     ]
    },
    {
     "name": "stdout",
     "output_type": "stream",
     "text": [
      "Linear Regression SGD(16/29): loss=150.8540625080253\n"
     ]
    },
    {
     "name": "stderr",
     "output_type": "stream",
     "text": [
      " 60%|██████    | 18/30 [00:29<00:21,  1.79s/it]"
     ]
    },
    {
     "name": "stdout",
     "output_type": "stream",
     "text": [
      "Linear Regression SGD(17/29): loss=150.7462003948694\n"
     ]
    },
    {
     "name": "stderr",
     "output_type": "stream",
     "text": [
      " 63%|██████▎   | 19/30 [00:31<00:19,  1.78s/it]"
     ]
    },
    {
     "name": "stdout",
     "output_type": "stream",
     "text": [
      "Linear Regression SGD(18/29): loss=150.75569805622376\n"
     ]
    },
    {
     "name": "stderr",
     "output_type": "stream",
     "text": [
      " 67%|██████▋   | 20/30 [00:32<00:17,  1.80s/it]"
     ]
    },
    {
     "name": "stdout",
     "output_type": "stream",
     "text": [
      "Linear Regression SGD(19/29): loss=150.728652432\n"
     ]
    },
    {
     "name": "stderr",
     "output_type": "stream",
     "text": [
      " 70%|███████   | 21/30 [00:34<00:16,  1.79s/it]"
     ]
    },
    {
     "name": "stdout",
     "output_type": "stream",
     "text": [
      "Linear Regression SGD(20/29): loss=150.74471570263623\n"
     ]
    },
    {
     "name": "stderr",
     "output_type": "stream",
     "text": [
      " 73%|███████▎  | 22/30 [00:36<00:14,  1.77s/it]"
     ]
    },
    {
     "name": "stdout",
     "output_type": "stream",
     "text": [
      "Linear Regression SGD(21/29): loss=150.72491920557107\n"
     ]
    },
    {
     "name": "stderr",
     "output_type": "stream",
     "text": [
      " 77%|███████▋  | 23/30 [00:38<00:12,  1.81s/it]"
     ]
    },
    {
     "name": "stdout",
     "output_type": "stream",
     "text": [
      "Linear Regression SGD(22/29): loss=150.7253991212167\n"
     ]
    },
    {
     "name": "stderr",
     "output_type": "stream",
     "text": [
      " 80%|████████  | 24/30 [00:40<00:11,  1.85s/it]"
     ]
    },
    {
     "name": "stdout",
     "output_type": "stream",
     "text": [
      "Linear Regression SGD(23/29): loss=150.72434583274227\n"
     ]
    },
    {
     "name": "stderr",
     "output_type": "stream",
     "text": [
      " 83%|████████▎ | 25/30 [00:41<00:09,  1.82s/it]"
     ]
    },
    {
     "name": "stdout",
     "output_type": "stream",
     "text": [
      "Linear Regression SGD(24/29): loss=150.72305253485152\n"
     ]
    },
    {
     "name": "stderr",
     "output_type": "stream",
     "text": [
      " 87%|████████▋ | 26/30 [00:43<00:07,  1.81s/it]"
     ]
    },
    {
     "name": "stdout",
     "output_type": "stream",
     "text": [
      "Linear Regression SGD(25/29): loss=150.72353401066874\n"
     ]
    },
    {
     "name": "stderr",
     "output_type": "stream",
     "text": [
      " 90%|█████████ | 27/30 [00:46<00:06,  2.02s/it]"
     ]
    },
    {
     "name": "stdout",
     "output_type": "stream",
     "text": [
      "Linear Regression SGD(26/29): loss=150.72295230391768\n"
     ]
    },
    {
     "name": "stderr",
     "output_type": "stream",
     "text": [
      " 93%|█████████▎| 28/30 [00:49<00:04,  2.27s/it]"
     ]
    },
    {
     "name": "stdout",
     "output_type": "stream",
     "text": [
      "Linear Regression SGD(27/29): loss=150.7222346456378\n"
     ]
    },
    {
     "name": "stderr",
     "output_type": "stream",
     "text": [
      " 97%|█████████▋| 29/30 [00:50<00:02,  2.15s/it]"
     ]
    },
    {
     "name": "stdout",
     "output_type": "stream",
     "text": [
      "Linear Regression SGD(28/29): loss=150.72206435078525\n"
     ]
    },
    {
     "name": "stderr",
     "output_type": "stream",
     "text": [
      "100%|██████████| 30/30 [00:52<00:00,  1.76s/it]"
     ]
    },
    {
     "name": "stdout",
     "output_type": "stream",
     "text": [
      "Linear Regression SGD(29/29): loss=150.72210971098428\n",
      "Best loss: 150.72206435078525\n"
     ]
    },
    {
     "name": "stderr",
     "output_type": "stream",
     "text": [
      "\n"
     ]
    }
   ],
   "source": [
    "initial_gamma = 0.001\n",
    "tx = replaceFirstFeature(tx, initial_gamma)"
   ]
  },
  {
   "cell_type": "code",
   "execution_count": 15,
   "metadata": {},
   "outputs": [
    {
     "data": {
      "text/plain": [
       "(array([], dtype=float64), (250000, 30))"
      ]
     },
     "execution_count": 15,
     "metadata": {},
     "output_type": "execute_result"
    }
   ],
   "source": [
    "tx[tx[:,0]==-999][:,0], tx.shape"
   ]
  },
  {
   "cell_type": "code",
   "execution_count": 19,
   "metadata": {},
   "outputs": [],
   "source": [
    "model_training = split_according_num_split_jet(y, tx, ids)"
   ]
  },
  {
   "cell_type": "code",
   "execution_count": 20,
   "metadata": {},
   "outputs": [
    {
     "data": {
      "text/plain": [
       "True"
      ]
     },
     "execution_count": 20,
     "metadata": {},
     "output_type": "execute_result"
    }
   ],
   "source": [
    "tx_0 = model_training['0']['data']\n",
    "tx_1 = model_training['1']['data']\n",
    "tx_2 = model_training['2']['data']\n",
    "tx_0.shape[0] + tx_1.shape[0] + tx_2.shape[0] == tx.shape[0]"
   ]
  },
  {
   "cell_type": "code",
   "execution_count": 21,
   "metadata": {},
   "outputs": [],
   "source": [
    "tx_mean_meaningful_0 = np.zeros([tx_0.shape[1],])\n",
    "for i in range(tx_0.shape[1]):\n",
    "    tx_mean_meaningful_0[i] = np.mean(tx_0[:, i][tx_0[:, i] != -999])\n",
    "    tx_0[:, i][tx_0[:, i] == -999] = tx_mean_meaningful_0[i]"
   ]
  },
  {
   "cell_type": "code",
   "execution_count": null,
   "metadata": {},
   "outputs": [],
   "source": [
    "tx_mean_meaningful_1 = np.zeros([tx_1.shape[1],])\n",
    "for i in range(tx_1.shape[1]):\n",
    "    tx_mean_meaningful_1[i] = np.mean(tx_1[:, i][tx_1[:, i] != -999])\n",
    "    tx_1[:, i][tx_1[:, i] == -999] = tx_mean_meaningful_1[i]"
   ]
  },
  {
   "cell_type": "code",
   "execution_count": null,
   "metadata": {},
   "outputs": [],
   "source": [
    "tx_mean_meaningful_2 = np.zeros([tx_2.shape[1],])\n",
    "for i in range(tx_2.shape[1]):\n",
    "    tx_mean_meaningful_2[i] = np.mean(tx_2[:, i][tx_2[:, i] != -999])\n",
    "    tx_2[:, i][tx_2[:, i] == -999] = tx_mean_meaningful_2[i]"
   ]
  }
 ],
 "metadata": {
  "kernelspec": {
   "display_name": "Python 3.10.7 64-bit",
   "language": "python",
   "name": "python3"
  },
  "language_info": {
   "codemirror_mode": {
    "name": "ipython",
    "version": 3
   },
   "file_extension": ".py",
   "mimetype": "text/x-python",
   "name": "python",
   "nbconvert_exporter": "python",
   "pygments_lexer": "ipython3",
   "version": "3.10.7"
  },
  "orig_nbformat": 4,
  "vscode": {
   "interpreter": {
    "hash": "a8877ca64660a6d07633c323136e70418fcd1020e7ad0cd0d4c67d6a541235ee"
   }
  }
 },
 "nbformat": 4,
 "nbformat_minor": 2
}
